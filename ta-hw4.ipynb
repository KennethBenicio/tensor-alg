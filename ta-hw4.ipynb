{
 "cells": [
  {
   "cell_type": "markdown",
   "metadata": {},
   "source": [
    "# Federal University of Ceará\n",
    "# Teleinformatics Departament\n",
    "# Graduate Program in Teleinformatics Engeneering\n",
    "## TIP8419 - Tensor Algebra\n",
    "## Homework 4 - Least Squares Kronecker Product Factorization (LSKronF)\n",
    "### Report and Simulation results\n",
    "\n",
    "- Ezequias Márcio - 497779\n",
    "\n",
    "To run this notebook properly, it is necessary Python3 installed alongside alongside with the packages listed below:\n",
    "\n",
    "- `numpy 1.17.2`\n",
    "- `scipy 1.4.1`\n",
    "- `tdqm 4.36.1`\n",
    "- `bokeh 1.3.4`\n",
    "\n",
    "Make sure that the files `tensoralg.py` and `ta_simulations.py` are in the same directory as this notebook. In this files, it can be found the tensor algebra module functions and the code listings of the simulations."
   ]
  },
  {
   "cell_type": "code",
   "execution_count": 1,
   "metadata": {},
   "outputs": [
    {
     "data": {
      "text/html": [
       "\n",
       "    <div class=\"bk-root\">\n",
       "        <a href=\"https://bokeh.pydata.org\" target=\"_blank\" class=\"bk-logo bk-logo-small bk-logo-notebook\"></a>\n",
       "        <span id=\"1001\">Loading BokehJS ...</span>\n",
       "    </div>"
      ]
     },
     "metadata": {},
     "output_type": "display_data"
    },
    {
     "data": {
      "application/javascript": [
       "\n",
       "(function(root) {\n",
       "  function now() {\n",
       "    return new Date();\n",
       "  }\n",
       "\n",
       "  var force = true;\n",
       "\n",
       "  if (typeof root._bokeh_onload_callbacks === \"undefined\" || force === true) {\n",
       "    root._bokeh_onload_callbacks = [];\n",
       "    root._bokeh_is_loading = undefined;\n",
       "  }\n",
       "\n",
       "  var JS_MIME_TYPE = 'application/javascript';\n",
       "  var HTML_MIME_TYPE = 'text/html';\n",
       "  var EXEC_MIME_TYPE = 'application/vnd.bokehjs_exec.v0+json';\n",
       "  var CLASS_NAME = 'output_bokeh rendered_html';\n",
       "\n",
       "  /**\n",
       "   * Render data to the DOM node\n",
       "   */\n",
       "  function render(props, node) {\n",
       "    var script = document.createElement(\"script\");\n",
       "    node.appendChild(script);\n",
       "  }\n",
       "\n",
       "  /**\n",
       "   * Handle when an output is cleared or removed\n",
       "   */\n",
       "  function handleClearOutput(event, handle) {\n",
       "    var cell = handle.cell;\n",
       "\n",
       "    var id = cell.output_area._bokeh_element_id;\n",
       "    var server_id = cell.output_area._bokeh_server_id;\n",
       "    // Clean up Bokeh references\n",
       "    if (id != null && id in Bokeh.index) {\n",
       "      Bokeh.index[id].model.document.clear();\n",
       "      delete Bokeh.index[id];\n",
       "    }\n",
       "\n",
       "    if (server_id !== undefined) {\n",
       "      // Clean up Bokeh references\n",
       "      var cmd = \"from bokeh.io.state import curstate; print(curstate().uuid_to_server['\" + server_id + \"'].get_sessions()[0].document.roots[0]._id)\";\n",
       "      cell.notebook.kernel.execute(cmd, {\n",
       "        iopub: {\n",
       "          output: function(msg) {\n",
       "            var id = msg.content.text.trim();\n",
       "            if (id in Bokeh.index) {\n",
       "              Bokeh.index[id].model.document.clear();\n",
       "              delete Bokeh.index[id];\n",
       "            }\n",
       "          }\n",
       "        }\n",
       "      });\n",
       "      // Destroy server and session\n",
       "      var cmd = \"import bokeh.io.notebook as ion; ion.destroy_server('\" + server_id + \"')\";\n",
       "      cell.notebook.kernel.execute(cmd);\n",
       "    }\n",
       "  }\n",
       "\n",
       "  /**\n",
       "   * Handle when a new output is added\n",
       "   */\n",
       "  function handleAddOutput(event, handle) {\n",
       "    var output_area = handle.output_area;\n",
       "    var output = handle.output;\n",
       "\n",
       "    // limit handleAddOutput to display_data with EXEC_MIME_TYPE content only\n",
       "    if ((output.output_type != \"display_data\") || (!output.data.hasOwnProperty(EXEC_MIME_TYPE))) {\n",
       "      return\n",
       "    }\n",
       "\n",
       "    var toinsert = output_area.element.find(\".\" + CLASS_NAME.split(' ')[0]);\n",
       "\n",
       "    if (output.metadata[EXEC_MIME_TYPE][\"id\"] !== undefined) {\n",
       "      toinsert[toinsert.length - 1].firstChild.textContent = output.data[JS_MIME_TYPE];\n",
       "      // store reference to embed id on output_area\n",
       "      output_area._bokeh_element_id = output.metadata[EXEC_MIME_TYPE][\"id\"];\n",
       "    }\n",
       "    if (output.metadata[EXEC_MIME_TYPE][\"server_id\"] !== undefined) {\n",
       "      var bk_div = document.createElement(\"div\");\n",
       "      bk_div.innerHTML = output.data[HTML_MIME_TYPE];\n",
       "      var script_attrs = bk_div.children[0].attributes;\n",
       "      for (var i = 0; i < script_attrs.length; i++) {\n",
       "        toinsert[toinsert.length - 1].firstChild.setAttribute(script_attrs[i].name, script_attrs[i].value);\n",
       "      }\n",
       "      // store reference to server id on output_area\n",
       "      output_area._bokeh_server_id = output.metadata[EXEC_MIME_TYPE][\"server_id\"];\n",
       "    }\n",
       "  }\n",
       "\n",
       "  function register_renderer(events, OutputArea) {\n",
       "\n",
       "    function append_mime(data, metadata, element) {\n",
       "      // create a DOM node to render to\n",
       "      var toinsert = this.create_output_subarea(\n",
       "        metadata,\n",
       "        CLASS_NAME,\n",
       "        EXEC_MIME_TYPE\n",
       "      );\n",
       "      this.keyboard_manager.register_events(toinsert);\n",
       "      // Render to node\n",
       "      var props = {data: data, metadata: metadata[EXEC_MIME_TYPE]};\n",
       "      render(props, toinsert[toinsert.length - 1]);\n",
       "      element.append(toinsert);\n",
       "      return toinsert\n",
       "    }\n",
       "\n",
       "    /* Handle when an output is cleared or removed */\n",
       "    events.on('clear_output.CodeCell', handleClearOutput);\n",
       "    events.on('delete.Cell', handleClearOutput);\n",
       "\n",
       "    /* Handle when a new output is added */\n",
       "    events.on('output_added.OutputArea', handleAddOutput);\n",
       "\n",
       "    /**\n",
       "     * Register the mime type and append_mime function with output_area\n",
       "     */\n",
       "    OutputArea.prototype.register_mime_type(EXEC_MIME_TYPE, append_mime, {\n",
       "      /* Is output safe? */\n",
       "      safe: true,\n",
       "      /* Index of renderer in `output_area.display_order` */\n",
       "      index: 0\n",
       "    });\n",
       "  }\n",
       "\n",
       "  // register the mime type if in Jupyter Notebook environment and previously unregistered\n",
       "  if (root.Jupyter !== undefined) {\n",
       "    var events = require('base/js/events');\n",
       "    var OutputArea = require('notebook/js/outputarea').OutputArea;\n",
       "\n",
       "    if (OutputArea.prototype.mime_types().indexOf(EXEC_MIME_TYPE) == -1) {\n",
       "      register_renderer(events, OutputArea);\n",
       "    }\n",
       "  }\n",
       "\n",
       "  \n",
       "  if (typeof (root._bokeh_timeout) === \"undefined\" || force === true) {\n",
       "    root._bokeh_timeout = Date.now() + 5000;\n",
       "    root._bokeh_failed_load = false;\n",
       "  }\n",
       "\n",
       "  var NB_LOAD_WARNING = {'data': {'text/html':\n",
       "     \"<div style='background-color: #fdd'>\\n\"+\n",
       "     \"<p>\\n\"+\n",
       "     \"BokehJS does not appear to have successfully loaded. If loading BokehJS from CDN, this \\n\"+\n",
       "     \"may be due to a slow or bad network connection. Possible fixes:\\n\"+\n",
       "     \"</p>\\n\"+\n",
       "     \"<ul>\\n\"+\n",
       "     \"<li>re-rerun `output_notebook()` to attempt to load from CDN again, or</li>\\n\"+\n",
       "     \"<li>use INLINE resources instead, as so:</li>\\n\"+\n",
       "     \"</ul>\\n\"+\n",
       "     \"<code>\\n\"+\n",
       "     \"from bokeh.resources import INLINE\\n\"+\n",
       "     \"output_notebook(resources=INLINE)\\n\"+\n",
       "     \"</code>\\n\"+\n",
       "     \"</div>\"}};\n",
       "\n",
       "  function display_loaded() {\n",
       "    var el = document.getElementById(\"1001\");\n",
       "    if (el != null) {\n",
       "      el.textContent = \"BokehJS is loading...\";\n",
       "    }\n",
       "    if (root.Bokeh !== undefined) {\n",
       "      if (el != null) {\n",
       "        el.textContent = \"BokehJS \" + root.Bokeh.version + \" successfully loaded.\";\n",
       "      }\n",
       "    } else if (Date.now() < root._bokeh_timeout) {\n",
       "      setTimeout(display_loaded, 100)\n",
       "    }\n",
       "  }\n",
       "\n",
       "\n",
       "  function run_callbacks() {\n",
       "    try {\n",
       "      root._bokeh_onload_callbacks.forEach(function(callback) {\n",
       "        if (callback != null)\n",
       "          callback();\n",
       "      });\n",
       "    } finally {\n",
       "      delete root._bokeh_onload_callbacks\n",
       "    }\n",
       "    console.debug(\"Bokeh: all callbacks have finished\");\n",
       "  }\n",
       "\n",
       "  function load_libs(css_urls, js_urls, callback) {\n",
       "    if (css_urls == null) css_urls = [];\n",
       "    if (js_urls == null) js_urls = [];\n",
       "\n",
       "    root._bokeh_onload_callbacks.push(callback);\n",
       "    if (root._bokeh_is_loading > 0) {\n",
       "      console.debug(\"Bokeh: BokehJS is being loaded, scheduling callback at\", now());\n",
       "      return null;\n",
       "    }\n",
       "    if (js_urls == null || js_urls.length === 0) {\n",
       "      run_callbacks();\n",
       "      return null;\n",
       "    }\n",
       "    console.debug(\"Bokeh: BokehJS not loaded, scheduling load and callback at\", now());\n",
       "    root._bokeh_is_loading = css_urls.length + js_urls.length;\n",
       "\n",
       "    function on_load() {\n",
       "      root._bokeh_is_loading--;\n",
       "      if (root._bokeh_is_loading === 0) {\n",
       "        console.debug(\"Bokeh: all BokehJS libraries/stylesheets loaded\");\n",
       "        run_callbacks()\n",
       "      }\n",
       "    }\n",
       "\n",
       "    function on_error() {\n",
       "      console.error(\"failed to load \" + url);\n",
       "    }\n",
       "\n",
       "    for (var i = 0; i < css_urls.length; i++) {\n",
       "      var url = css_urls[i];\n",
       "      const element = document.createElement(\"link\");\n",
       "      element.onload = on_load;\n",
       "      element.onerror = on_error;\n",
       "      element.rel = \"stylesheet\";\n",
       "      element.type = \"text/css\";\n",
       "      element.href = url;\n",
       "      console.debug(\"Bokeh: injecting link tag for BokehJS stylesheet: \", url);\n",
       "      document.body.appendChild(element);\n",
       "    }\n",
       "\n",
       "    for (var i = 0; i < js_urls.length; i++) {\n",
       "      var url = js_urls[i];\n",
       "      var element = document.createElement('script');\n",
       "      element.onload = on_load;\n",
       "      element.onerror = on_error;\n",
       "      element.async = false;\n",
       "      element.src = url;\n",
       "      console.debug(\"Bokeh: injecting script tag for BokehJS library: \", url);\n",
       "      document.head.appendChild(element);\n",
       "    }\n",
       "  };var element = document.getElementById(\"1001\");\n",
       "  if (element == null) {\n",
       "    console.error(\"Bokeh: ERROR: autoload.js configured with elementid '1001' but no matching script tag was found. \")\n",
       "    return false;\n",
       "  }\n",
       "\n",
       "  function inject_raw_css(css) {\n",
       "    const element = document.createElement(\"style\");\n",
       "    element.appendChild(document.createTextNode(css));\n",
       "    document.body.appendChild(element);\n",
       "  }\n",
       "\n",
       "  var js_urls = [\"https://cdn.pydata.org/bokeh/release/bokeh-1.3.4.min.js\", \"https://cdn.pydata.org/bokeh/release/bokeh-widgets-1.3.4.min.js\", \"https://cdn.pydata.org/bokeh/release/bokeh-tables-1.3.4.min.js\", \"https://cdn.pydata.org/bokeh/release/bokeh-gl-1.3.4.min.js\"];\n",
       "  var css_urls = [];\n",
       "\n",
       "  var inline_js = [\n",
       "    function(Bokeh) {\n",
       "      Bokeh.set_log_level(\"info\");\n",
       "    },\n",
       "    \n",
       "    function(Bokeh) {\n",
       "      \n",
       "    },\n",
       "    function(Bokeh) {} // ensure no trailing comma for IE\n",
       "  ];\n",
       "\n",
       "  function run_inline_js() {\n",
       "    \n",
       "    if ((root.Bokeh !== undefined) || (force === true)) {\n",
       "      for (var i = 0; i < inline_js.length; i++) {\n",
       "        inline_js[i].call(root, root.Bokeh);\n",
       "      }if (force === true) {\n",
       "        display_loaded();\n",
       "      }} else if (Date.now() < root._bokeh_timeout) {\n",
       "      setTimeout(run_inline_js, 100);\n",
       "    } else if (!root._bokeh_failed_load) {\n",
       "      console.log(\"Bokeh: BokehJS failed to load within specified timeout.\");\n",
       "      root._bokeh_failed_load = true;\n",
       "    } else if (force !== true) {\n",
       "      var cell = $(document.getElementById(\"1001\")).parents('.cell').data().cell;\n",
       "      cell.output_area.append_execute_result(NB_LOAD_WARNING)\n",
       "    }\n",
       "\n",
       "  }\n",
       "\n",
       "  if (root._bokeh_is_loading === 0) {\n",
       "    console.debug(\"Bokeh: BokehJS loaded, going straight to plotting\");\n",
       "    run_inline_js();\n",
       "  } else {\n",
       "    load_libs(css_urls, js_urls, function() {\n",
       "      console.debug(\"Bokeh: BokehJS plotting callback run at\", now());\n",
       "      run_inline_js();\n",
       "    });\n",
       "  }\n",
       "}(window));"
      ],
      "application/vnd.bokehjs_load.v0+json": "\n(function(root) {\n  function now() {\n    return new Date();\n  }\n\n  var force = true;\n\n  if (typeof root._bokeh_onload_callbacks === \"undefined\" || force === true) {\n    root._bokeh_onload_callbacks = [];\n    root._bokeh_is_loading = undefined;\n  }\n\n  \n\n  \n  if (typeof (root._bokeh_timeout) === \"undefined\" || force === true) {\n    root._bokeh_timeout = Date.now() + 5000;\n    root._bokeh_failed_load = false;\n  }\n\n  var NB_LOAD_WARNING = {'data': {'text/html':\n     \"<div style='background-color: #fdd'>\\n\"+\n     \"<p>\\n\"+\n     \"BokehJS does not appear to have successfully loaded. If loading BokehJS from CDN, this \\n\"+\n     \"may be due to a slow or bad network connection. Possible fixes:\\n\"+\n     \"</p>\\n\"+\n     \"<ul>\\n\"+\n     \"<li>re-rerun `output_notebook()` to attempt to load from CDN again, or</li>\\n\"+\n     \"<li>use INLINE resources instead, as so:</li>\\n\"+\n     \"</ul>\\n\"+\n     \"<code>\\n\"+\n     \"from bokeh.resources import INLINE\\n\"+\n     \"output_notebook(resources=INLINE)\\n\"+\n     \"</code>\\n\"+\n     \"</div>\"}};\n\n  function display_loaded() {\n    var el = document.getElementById(\"1001\");\n    if (el != null) {\n      el.textContent = \"BokehJS is loading...\";\n    }\n    if (root.Bokeh !== undefined) {\n      if (el != null) {\n        el.textContent = \"BokehJS \" + root.Bokeh.version + \" successfully loaded.\";\n      }\n    } else if (Date.now() < root._bokeh_timeout) {\n      setTimeout(display_loaded, 100)\n    }\n  }\n\n\n  function run_callbacks() {\n    try {\n      root._bokeh_onload_callbacks.forEach(function(callback) {\n        if (callback != null)\n          callback();\n      });\n    } finally {\n      delete root._bokeh_onload_callbacks\n    }\n    console.debug(\"Bokeh: all callbacks have finished\");\n  }\n\n  function load_libs(css_urls, js_urls, callback) {\n    if (css_urls == null) css_urls = [];\n    if (js_urls == null) js_urls = [];\n\n    root._bokeh_onload_callbacks.push(callback);\n    if (root._bokeh_is_loading > 0) {\n      console.debug(\"Bokeh: BokehJS is being loaded, scheduling callback at\", now());\n      return null;\n    }\n    if (js_urls == null || js_urls.length === 0) {\n      run_callbacks();\n      return null;\n    }\n    console.debug(\"Bokeh: BokehJS not loaded, scheduling load and callback at\", now());\n    root._bokeh_is_loading = css_urls.length + js_urls.length;\n\n    function on_load() {\n      root._bokeh_is_loading--;\n      if (root._bokeh_is_loading === 0) {\n        console.debug(\"Bokeh: all BokehJS libraries/stylesheets loaded\");\n        run_callbacks()\n      }\n    }\n\n    function on_error() {\n      console.error(\"failed to load \" + url);\n    }\n\n    for (var i = 0; i < css_urls.length; i++) {\n      var url = css_urls[i];\n      const element = document.createElement(\"link\");\n      element.onload = on_load;\n      element.onerror = on_error;\n      element.rel = \"stylesheet\";\n      element.type = \"text/css\";\n      element.href = url;\n      console.debug(\"Bokeh: injecting link tag for BokehJS stylesheet: \", url);\n      document.body.appendChild(element);\n    }\n\n    for (var i = 0; i < js_urls.length; i++) {\n      var url = js_urls[i];\n      var element = document.createElement('script');\n      element.onload = on_load;\n      element.onerror = on_error;\n      element.async = false;\n      element.src = url;\n      console.debug(\"Bokeh: injecting script tag for BokehJS library: \", url);\n      document.head.appendChild(element);\n    }\n  };var element = document.getElementById(\"1001\");\n  if (element == null) {\n    console.error(\"Bokeh: ERROR: autoload.js configured with elementid '1001' but no matching script tag was found. \")\n    return false;\n  }\n\n  function inject_raw_css(css) {\n    const element = document.createElement(\"style\");\n    element.appendChild(document.createTextNode(css));\n    document.body.appendChild(element);\n  }\n\n  var js_urls = [\"https://cdn.pydata.org/bokeh/release/bokeh-1.3.4.min.js\", \"https://cdn.pydata.org/bokeh/release/bokeh-widgets-1.3.4.min.js\", \"https://cdn.pydata.org/bokeh/release/bokeh-tables-1.3.4.min.js\", \"https://cdn.pydata.org/bokeh/release/bokeh-gl-1.3.4.min.js\"];\n  var css_urls = [];\n\n  var inline_js = [\n    function(Bokeh) {\n      Bokeh.set_log_level(\"info\");\n    },\n    \n    function(Bokeh) {\n      \n    },\n    function(Bokeh) {} // ensure no trailing comma for IE\n  ];\n\n  function run_inline_js() {\n    \n    if ((root.Bokeh !== undefined) || (force === true)) {\n      for (var i = 0; i < inline_js.length; i++) {\n        inline_js[i].call(root, root.Bokeh);\n      }if (force === true) {\n        display_loaded();\n      }} else if (Date.now() < root._bokeh_timeout) {\n      setTimeout(run_inline_js, 100);\n    } else if (!root._bokeh_failed_load) {\n      console.log(\"Bokeh: BokehJS failed to load within specified timeout.\");\n      root._bokeh_failed_load = true;\n    } else if (force !== true) {\n      var cell = $(document.getElementById(\"1001\")).parents('.cell').data().cell;\n      cell.output_area.append_execute_result(NB_LOAD_WARNING)\n    }\n\n  }\n\n  if (root._bokeh_is_loading === 0) {\n    console.debug(\"Bokeh: BokehJS loaded, going straight to plotting\");\n    run_inline_js();\n  } else {\n    load_libs(css_urls, js_urls, function() {\n      console.debug(\"Bokeh: BokehJS plotting callback run at\", now());\n      run_inline_js();\n    });\n  }\n}(window));"
     },
     "metadata": {},
     "output_type": "display_data"
    }
   ],
   "source": [
    "# Importing the simulation module:\n",
    "from ta_simulations import *\n",
    "np.set_printoptions(3, linewidth=175)\n",
    "output_notebook()"
   ]
  },
  {
   "cell_type": "markdown",
   "metadata": {},
   "source": [
    "### Part 1\n",
    "\n",
    "- Generate $\\mathbf{X} = \\mathbf{A}\\otimes \\mathbf{B} \\in \\mathbb{C}^{24×6}$, for randomly chosen $\\mathbf{A} \\in \\mathbb{C}^{4×2}$ and $\\mathbf{B} \\in \\mathbb{C}^{6×3}$. Then, implement the Least-Squares Khatri-Rao Factorization (LSKRF) algorithm that estimate $\\mathbf{A}$ and $\\mathbf{B}$ by solving the following problem:\n",
    "\n",
    "\\begin{equation}\n",
    "    (\\hat{\\mathbf{A}},\\hat{\\mathbf{B}}) = \\underset{\\mathbf{A},\\mathbf{B}}{min} ||\\mathbf{X} - \\mathbf{A} \\otimes \\mathbf{B}|| ^{2}_{F}\n",
    "\\end{equation}\n",
    "\n",
    "- Compare the estimated matrices $\\hat{\\mathbf{A}}$ and $\\hat{\\mathbf{B}}$ with the original ones. What can you conclude? Explain the results.\n",
    "\n",
    "### Solution: \n",
    "\n",
    "- Testing the implemented LSKRF function:\n",
    "\n",
    "In the cell below, the matrices $\\mathbf{A} \\in \\mathbb{C}^{4×2}$ and $\\mathbf{B} \\in \\mathbb{C}^{6×3}$ are randomly generated and is calculated the squared error between these matrices and their estimates for comparison."
   ]
  },
  {
   "cell_type": "code",
   "execution_count": 24,
   "metadata": {},
   "outputs": [
    {
     "name": "stdout",
     "output_type": "stream",
     "text": [
      "Squared Errors:\n",
      "- Matrix A: 11.931543756244622\n",
      "- Matrix B: 25.66045577868375\n",
      "- Matrix X: 7.858755771236278\n"
     ]
    }
   ],
   "source": [
    "# Testing the Least-Squares Kronecker Product Factorization:\n",
    "# Generating random matrices: A (4x2) and B (6x3)\n",
    "A = rand(4, 2*2).view(np.complex_)\n",
    "B = rand(6, 3*2).view(np.complex_)\n",
    "X = tensoralg.kron(A, B)\n",
    "# Estimating matrices A and B:\n",
    "# Real case and imaginary case separately:\n",
    "A_hatr, B_hatr = tensoralg.lskronf(X.real, A.shape, B.shape)\n",
    "A_hati, B_hati = tensoralg.lskronf(X.imag, A.shape, B.shape)\n",
    "# Calculating the squared error\n",
    "errorA = norm(A - A_hat, 'fro')**2\n",
    "errorB = norm(B - B_hat, 'fro')**2\n",
    "errorX = norm(X - (tensoralg.kron(A_hatr, B_hatr) + 1j*tensoralg.kron(A_hati, B_hati) ), 'fro')**2\n",
    "print(f'''Squared Errors:\\n- Matrix A: {errorA}\\n- Matrix B: {errorB}\n",
    "- Matrix X: {errorX}''')"
   ]
  },
  {
   "cell_type": "markdown",
   "metadata": {},
   "source": [
    "As can be seen by the result above, the error between the estimated matrices and the oringinal ones is high. However, the error between the reconstructed version of $\\mathbf{X}$ $(\\hat{\\mathbf{A}}\\diamond \\hat{\\mathbf{B}})$ and the original is minimized by the LSKronF algorithm.\n",
    "\n",
    "The porpouse of the LSKronF algorithm is to find the matrices $\\hat{\\mathbf{A}}$ and $\\hat{\\mathbf{B}}$ that minimizes the squared error between the original matrix and your reconstructed version by using the best rank-1 approximation of each matrix $\\mathbf{A} $ and $\\mathbf{B}$. Doing that, by rearranging the blocks of the matrix $\\mathbf{X}$ into a rank-1 matrix $\\tilde{\\mathbf{X}}$, the matrices $\\hat{\\mathbf{A}}$ and $\\hat{\\mathbf{B}}$ are estimated by the truncated version of the SVD of $\\tilde{\\mathbf{X}}$. Because only the first singular value and vectors are chosen for that truncated SVD, the estimated matrices are not close to the original ones, that is evidenced by the high error values above.\n",
    "\n",
    "Also, in this complex matrices case the error of the imaginary part is considered. The error considering real matrices is near than zero. It can be seen below, where the provided matrices are real.\n",
    "\n",
    "- Validating the results:\n",
    "\n",
    "Using the provided matrices, it can be seen below that the implemented algorithm is working as expected, presenting a small error for the reconstructed matrix."
   ]
  },
  {
   "cell_type": "code",
   "execution_count": 13,
   "metadata": {},
   "outputs": [
    {
     "name": "stdout",
     "output_type": "stream",
     "text": [
      "Squared Errors:\n",
      "- Matrix A: 61.934687943971774\n",
      "- Matrix B: 42.62995196742396\n",
      "- Matrix X: 2.585814650232636e-29\n"
     ]
    }
   ],
   "source": [
    "# Validating the results with the matrices provided:\n",
    "# Loading the .m file given as a python dictionary:\n",
    "kronf_data = loadmat('m-files/kronf_matrix.mat')\n",
    "# Extracting data:\n",
    "realA = np.array(kronf_data['A'])\n",
    "realB = np.array(kronf_data['B'])\n",
    "realX = np.array(kronf_data['X'])\n",
    "# print(realA, realB)\n",
    "# Estimating matrices A and B:\n",
    "Ahat, Bhat = tensoralg.lskronf(realX, realA.shape, realB.shape)\n",
    "# Calculating the squared error\n",
    "A_error = norm(realA - Ahat, 'fro')**2\n",
    "B_error = norm(realB - Bhat, 'fro')**2\n",
    "X_error = norm(realX - tensoralg.kron(Ahat, Bhat), 'fro')**2\n",
    "print(f'''Squared Errors:\\n- Matrix A: {A_error}\\n- Matrix B: {B_error}\n",
    "- Matrix X: {X_error}''')"
   ]
  },
  {
   "cell_type": "markdown",
   "metadata": {},
   "source": [
    "### Part 2: \n",
    "- Assuming 1000 Monte Carlo experiments, generate  $\\mathbf{X}_{0} = \\mathbf{A} \\otimes \\mathbf{B} \\in \\mathbb{C}^{IJ×PQ}$, for randomly chosen $\\mathbf{A} \\in \\mathbb{C}^{I×P}$ and $\\mathbf{B} \\in \\mathbb{C}^{J×Q}$, whose elements are drawn from a normal distribution. Let $\\mathbf{X} = \\mathbf{X}_{0} + \\alpha \\mathbf{V}$ be a noisy version of $\\mathbf{X}_{0}$ where $\\mathbf{V}$ is the additive noise term, whose elements are drawn from a normal distribution. The parameter $\\alpha$ controls the power (variance) of the noise term, and is defined as a function of the signal to noise ratio (SNR), in dB, as follows:\\begin{equation}\n",
    "    \\text{SNR}_{dB} = 10 \\log_{10} \\frac{||\\mathbf{X}_{0}||^{2}_{F}}{||\\alpha \\mathbf{V}||^{2}_{F}}\\end{equation}\n",
    "\n",
    "- Assuming the SNR range $[0, 5, 10, 15, 20, 25, 30]$ dB, find the estimates $\\hat{\\mathbf{A}}$ and $\\hat{\\mathbf{B}}$ obtained with the LSKRF algorithm for the configurations $(I, J) = (2, 4),(P,Q) = (3,5)$ and $(I,J) = (4,8),(P, Q) = (3, 5)$. Let us define the normalized mean square error (NMSE) measure as follows:\\begin{equation}\n",
    "    \\text{NMSE}(\\mathbf{X}_{0}) = \\frac{1}{1000} \\sum^{1000}_{i = 1} \\frac{||\\hat{\\mathbf{X}}_{0}(i) - \\mathbf{X}_{0}(i)||^{2}_{F}}{||\\mathbf{X}_{0}(i)||^{2}_{F}}\\end{equation}\n",
    "\n",
    "  where $\\mathbf{X}_{0}(i)$ and $\\hat{\\mathbf{X}}_{0}(i)$ represent the original data matrix and the reconstructed one at the ith experiment, respectively. For each SNR value and configuration, plot the NMSE vs. SNR curve. Discuss the obtained results.\n",
    "  \n",
    "### Solution:\n",
    "\n",
    "- Monte Carlo Simulation\n",
    "\n",
    "The simulation results are generated in the cell below. First, for the 1000 realizations, the matrix $\\mathbf{X}_{0}(i)$ is generated and then, for each value of SNR, it is added Gaussian noise to the matrix tha will be the input of the LSKronF algorithm. After that, with the estimated matrices $\\hat{\\mathbf{A}}$ and $\\hat{\\mathbf{B}}$ are used to build the estimative $\\hat{\\mathbf{X}}_{0}(i)$. Lastly, the RMSE between the estimated matrix and the original is sorted. This process is implemented in the function `run_simulation_lskron`."
   ]
  },
  {
   "cell_type": "code",
   "execution_count": 2,
   "metadata": {},
   "outputs": [
    {
     "data": {
      "application/vnd.jupyter.widget-view+json": {
       "model_id": "c0f231776a7e45568871531419c0b27d",
       "version_major": 2,
       "version_minor": 0
      },
      "text/plain": [
       "HBox(children=(IntProgress(value=0, max=1000), HTML(value='')))"
      ]
     },
     "metadata": {},
     "output_type": "display_data"
    },
    {
     "name": "stdout",
     "output_type": "stream",
     "text": [
      "\n"
     ]
    },
    {
     "data": {
      "application/vnd.jupyter.widget-view+json": {
       "model_id": "0bbf4496bc134b7291a5319b46554111",
       "version_major": 2,
       "version_minor": 0
      },
      "text/plain": [
       "HBox(children=(IntProgress(value=0, max=1000), HTML(value='')))"
      ]
     },
     "metadata": {},
     "output_type": "display_data"
    },
    {
     "name": "stdout",
     "output_type": "stream",
     "text": [
      "\n"
     ]
    }
   ],
   "source": [
    "# Number of rows and columns of A and B IxP; JxQ:\n",
    "# Cases:\n",
    "shape_a1 = 2, 3; shape_b1 = 4, 5 \n",
    "shape_a2 = 4, 3; shape_b2 = 8, 5\n",
    "# SNR values:\n",
    "snr = np.arange(0, 35, 5)\n",
    "# Monte Carlo Realizations:\n",
    "mc_realizations = 1000\n",
    "#Generating data for the two cases:\n",
    "case1 = run_simulation_lskron(snr, mc_realizations, shape_a1, shape_b1)\n",
    "case2 = run_simulation_lskron(snr, mc_realizations, shape_a2, shape_b2)"
   ]
  },
  {
   "cell_type": "markdown",
   "metadata": {},
   "source": [
    "The NMSE vs. SNR curve is presented in a log-scale plot below.\n",
    "\n",
    "\n",
    "#### For real matrices:\n",
    "\n",
    "As can be seen in the figure below, with the increase in SNR, the estimate is more accurate because the noise power is decreasing. Also, with respect to the case where the size of the matrices are $I, J = 4, 8$, the performance of the LSKronF algorithm is slightly better because the normalized square error is normalized by a smaller factor than in the first case $(I, J = 2, 4)$."
   ]
  },
  {
   "cell_type": "code",
   "execution_count": 4,
   "metadata": {},
   "outputs": [
    {
     "data": {
      "text/html": [
       "\n",
       "\n",
       "\n",
       "\n",
       "\n",
       "\n",
       "  <div class=\"bk-root\" id=\"974b5094-b74e-433b-801d-ff616e2e94e6\" data-root-id=\"1191\"></div>\n"
      ]
     },
     "metadata": {},
     "output_type": "display_data"
    },
    {
     "data": {
      "application/javascript": [
       "(function(root) {\n",
       "  function embed_document(root) {\n",
       "    \n",
       "  var docs_json = {\"8ea52064-0be4-42cd-8f42-c5dff46f245f\":{\"roots\":{\"references\":[{\"attributes\":{\"background_fill_color\":{\"value\":\"#fafafa\"},\"below\":[{\"id\":\"1202\",\"type\":\"LinearAxis\"}],\"center\":[{\"id\":\"1206\",\"type\":\"Grid\"},{\"id\":\"1211\",\"type\":\"Grid\"},{\"id\":\"1234\",\"type\":\"Legend\"}],\"left\":[{\"id\":\"1207\",\"type\":\"LogAxis\"}],\"plot_height\":400,\"renderers\":[{\"id\":\"1226\",\"type\":\"GlyphRenderer\"},{\"id\":\"1239\",\"type\":\"GlyphRenderer\"},{\"id\":\"1252\",\"type\":\"GlyphRenderer\"},{\"id\":\"1268\",\"type\":\"GlyphRenderer\"}],\"title\":{\"id\":\"1192\",\"type\":\"Title\"},\"toolbar\":{\"id\":\"1217\",\"type\":\"Toolbar\"},\"x_range\":{\"id\":\"1194\",\"type\":\"DataRange1d\"},\"x_scale\":{\"id\":\"1198\",\"type\":\"LinearScale\"},\"y_range\":{\"id\":\"1196\",\"type\":\"DataRange1d\"},\"y_scale\":{\"id\":\"1200\",\"type\":\"LogScale\"}},\"id\":\"1191\",\"subtype\":\"Figure\",\"type\":\"Plot\"},{\"attributes\":{\"fill_color\":{\"value\":null},\"line_color\":{\"value\":\"red\"},\"size\":{\"units\":\"screen\",\"value\":8},\"x\":{\"field\":\"x\"},\"y\":{\"field\":\"y\"}},\"id\":\"1237\",\"type\":\"Square\"},{\"attributes\":{\"line_color\":\"green\",\"line_width\":2,\"x\":{\"field\":\"x\"},\"y\":{\"field\":\"y\"}},\"id\":\"1250\",\"type\":\"Line\"},{\"attributes\":{\"callback\":null},\"id\":\"1194\",\"type\":\"DataRange1d\"},{\"attributes\":{\"line_alpha\":0.1,\"line_color\":\"#1f77b4\",\"line_width\":2,\"x\":{\"field\":\"x\"},\"y\":{\"field\":\"y\"}},\"id\":\"1251\",\"type\":\"Line\"},{\"attributes\":{\"fill_alpha\":{\"value\":0.1},\"fill_color\":{\"value\":\"#1f77b4\"},\"line_alpha\":{\"value\":0.1},\"line_color\":{\"value\":\"#1f77b4\"},\"size\":{\"units\":\"screen\",\"value\":8},\"x\":{\"field\":\"x\"},\"y\":{\"field\":\"y\"}},\"id\":\"1267\",\"type\":\"Square\"},{\"attributes\":{},\"id\":\"1214\",\"type\":\"WheelZoomTool\"},{\"attributes\":{\"callback\":null,\"data\":{\"x\":[0,5,10,15,20,25,30],\"y\":{\"__ndarray__\":\"e4qTxAI1zT+DutwjUFixPxlFx8xit5U/yIMw/bJUez+KAHBCK/JgP7mG0tWOikU/32raFY2YKz8=\",\"dtype\":\"float64\",\"shape\":[7]}},\"selected\":{\"id\":\"1261\",\"type\":\"Selection\"},\"selection_policy\":{\"id\":\"1262\",\"type\":\"UnionRenderers\"}},\"id\":\"1236\",\"type\":\"ColumnDataSource\"},{\"attributes\":{},\"id\":\"1216\",\"type\":\"ResetTool\"},{\"attributes\":{\"data_source\":{\"id\":\"1249\",\"type\":\"ColumnDataSource\"},\"glyph\":{\"id\":\"1250\",\"type\":\"Line\"},\"hover_glyph\":null,\"muted_glyph\":null,\"nonselection_glyph\":{\"id\":\"1251\",\"type\":\"Line\"},\"selection_glyph\":null,\"view\":{\"id\":\"1253\",\"type\":\"CDSView\"}},\"id\":\"1252\",\"type\":\"GlyphRenderer\"},{\"attributes\":{},\"id\":\"1198\",\"type\":\"LinearScale\"},{\"attributes\":{\"active_drag\":\"auto\",\"active_inspect\":\"auto\",\"active_multi\":null,\"active_scroll\":\"auto\",\"active_tap\":\"auto\",\"tools\":[{\"id\":\"1212\",\"type\":\"HoverTool\"},{\"id\":\"1213\",\"type\":\"PanTool\"},{\"id\":\"1214\",\"type\":\"WheelZoomTool\"},{\"id\":\"1215\",\"type\":\"BoxZoomTool\"},{\"id\":\"1216\",\"type\":\"ResetTool\"}]},\"id\":\"1217\",\"type\":\"Toolbar\"},{\"attributes\":{\"label\":{\"value\":\"LSKronF - (I, J) = (4, 8)\"},\"renderers\":[{\"id\":\"1252\",\"type\":\"GlyphRenderer\"},{\"id\":\"1268\",\"type\":\"GlyphRenderer\"}]},\"id\":\"1264\",\"type\":\"LegendItem\"},{\"attributes\":{\"overlay\":{\"id\":\"1233\",\"type\":\"BoxAnnotation\"}},\"id\":\"1215\",\"type\":\"BoxZoomTool\"},{\"attributes\":{},\"id\":\"1280\",\"type\":\"UnionRenderers\"},{\"attributes\":{\"text\":\"Normalized Error Curve - LSKronF\"},\"id\":\"1192\",\"type\":\"Title\"},{\"attributes\":{\"source\":{\"id\":\"1265\",\"type\":\"ColumnDataSource\"}},\"id\":\"1269\",\"type\":\"CDSView\"},{\"attributes\":{\"axis_label\":\"NMSE\",\"formatter\":{\"id\":\"1231\",\"type\":\"LogTickFormatter\"},\"ticker\":{\"id\":\"1208\",\"type\":\"LogTicker\"}},\"id\":\"1207\",\"type\":\"LogAxis\"},{\"attributes\":{\"callback\":null,\"data\":{\"x\":[0,5,10,15,20,25,30],\"y\":{\"__ndarray__\":\"Zw30YsCvvD+D+7cZjlqhP4lNxPGv64U/Lh1CF+lSaz+MarQ3h1ZRPx3qVspC/jU/M57ZcnrxGz8=\",\"dtype\":\"float64\",\"shape\":[7]}},\"selected\":{\"id\":\"1307\",\"type\":\"Selection\"},\"selection_policy\":{\"id\":\"1308\",\"type\":\"UnionRenderers\"}},\"id\":\"1265\",\"type\":\"ColumnDataSource\"},{\"attributes\":{},\"id\":\"1213\",\"type\":\"PanTool\"},{\"attributes\":{},\"id\":\"1308\",\"type\":\"UnionRenderers\"},{\"attributes\":{\"callback\":null},\"id\":\"1196\",\"type\":\"DataRange1d\"},{\"attributes\":{},\"id\":\"1307\",\"type\":\"Selection\"},{\"attributes\":{\"bottom_units\":\"screen\",\"fill_alpha\":{\"value\":0.5},\"fill_color\":{\"value\":\"lightgrey\"},\"left_units\":\"screen\",\"level\":\"overlay\",\"line_alpha\":{\"value\":1.0},\"line_color\":{\"value\":\"black\"},\"line_dash\":[4,4],\"line_width\":{\"value\":2},\"render_mode\":\"css\",\"right_units\":\"screen\",\"top_units\":\"screen\"},\"id\":\"1233\",\"type\":\"BoxAnnotation\"},{\"attributes\":{\"ticker\":{\"id\":\"1203\",\"type\":\"BasicTicker\"}},\"id\":\"1206\",\"type\":\"Grid\"},{\"attributes\":{\"line_alpha\":0.1,\"line_color\":\"#1f77b4\",\"line_width\":2,\"x\":{\"field\":\"x\"},\"y\":{\"field\":\"y\"}},\"id\":\"1225\",\"type\":\"Line\"},{\"attributes\":{\"fill_alpha\":{\"value\":0.1},\"fill_color\":{\"value\":\"#1f77b4\"},\"line_alpha\":{\"value\":0.1},\"line_color\":{\"value\":\"#1f77b4\"},\"size\":{\"units\":\"screen\",\"value\":8},\"x\":{\"field\":\"x\"},\"y\":{\"field\":\"y\"}},\"id\":\"1238\",\"type\":\"Square\"},{\"attributes\":{\"axis_label\":\"SNR [dB]\",\"formatter\":{\"id\":\"1229\",\"type\":\"BasicTickFormatter\"},\"ticker\":{\"id\":\"1203\",\"type\":\"BasicTicker\"}},\"id\":\"1202\",\"type\":\"LinearAxis\"},{\"attributes\":{\"label\":{\"value\":\"LSKronF - (I, J) = (2, 4)\"},\"renderers\":[{\"id\":\"1226\",\"type\":\"GlyphRenderer\"},{\"id\":\"1239\",\"type\":\"GlyphRenderer\"}]},\"id\":\"1235\",\"type\":\"LegendItem\"},{\"attributes\":{},\"id\":\"1279\",\"type\":\"Selection\"},{\"attributes\":{},\"id\":\"1203\",\"type\":\"BasicTicker\"},{\"attributes\":{\"dimension\":1,\"ticker\":{\"id\":\"1208\",\"type\":\"LogTicker\"}},\"id\":\"1211\",\"type\":\"Grid\"},{\"attributes\":{},\"id\":\"1200\",\"type\":\"LogScale\"},{\"attributes\":{},\"id\":\"1261\",\"type\":\"Selection\"},{\"attributes\":{\"source\":{\"id\":\"1249\",\"type\":\"ColumnDataSource\"}},\"id\":\"1253\",\"type\":\"CDSView\"},{\"attributes\":{\"data_source\":{\"id\":\"1236\",\"type\":\"ColumnDataSource\"},\"glyph\":{\"id\":\"1237\",\"type\":\"Square\"},\"hover_glyph\":null,\"muted_glyph\":null,\"nonselection_glyph\":{\"id\":\"1238\",\"type\":\"Square\"},\"selection_glyph\":null,\"view\":{\"id\":\"1240\",\"type\":\"CDSView\"}},\"id\":\"1239\",\"type\":\"GlyphRenderer\"},{\"attributes\":{\"data_source\":{\"id\":\"1223\",\"type\":\"ColumnDataSource\"},\"glyph\":{\"id\":\"1224\",\"type\":\"Line\"},\"hover_glyph\":null,\"muted_glyph\":null,\"nonselection_glyph\":{\"id\":\"1225\",\"type\":\"Line\"},\"selection_glyph\":null,\"view\":{\"id\":\"1227\",\"type\":\"CDSView\"}},\"id\":\"1226\",\"type\":\"GlyphRenderer\"},{\"attributes\":{\"callback\":null,\"data\":{\"x\":[0,5,10,15,20,25,30],\"y\":{\"__ndarray__\":\"Zw30YsCvvD+D+7cZjlqhP4lNxPGv64U/Lh1CF+lSaz+MarQ3h1ZRPx3qVspC/jU/M57ZcnrxGz8=\",\"dtype\":\"float64\",\"shape\":[7]}},\"selected\":{\"id\":\"1279\",\"type\":\"Selection\"},\"selection_policy\":{\"id\":\"1280\",\"type\":\"UnionRenderers\"}},\"id\":\"1249\",\"type\":\"ColumnDataSource\"},{\"attributes\":{\"ticker\":null},\"id\":\"1231\",\"type\":\"LogTickFormatter\"},{\"attributes\":{\"source\":{\"id\":\"1236\",\"type\":\"ColumnDataSource\"}},\"id\":\"1240\",\"type\":\"CDSView\"},{\"attributes\":{\"click_policy\":\"hide\",\"items\":[{\"id\":\"1235\",\"type\":\"LegendItem\"},{\"id\":\"1264\",\"type\":\"LegendItem\"}]},\"id\":\"1234\",\"type\":\"Legend\"},{\"attributes\":{\"callback\":null,\"data\":{\"x\":[0,5,10,15,20,25,30],\"y\":{\"__ndarray__\":\"e4qTxAI1zT+DutwjUFixPxlFx8xit5U/yIMw/bJUez+KAHBCK/JgP7mG0tWOikU/32raFY2YKz8=\",\"dtype\":\"float64\",\"shape\":[7]}},\"selected\":{\"id\":\"1246\",\"type\":\"Selection\"},\"selection_policy\":{\"id\":\"1247\",\"type\":\"UnionRenderers\"}},\"id\":\"1223\",\"type\":\"ColumnDataSource\"},{\"attributes\":{},\"id\":\"1246\",\"type\":\"Selection\"},{\"attributes\":{},\"id\":\"1229\",\"type\":\"BasicTickFormatter\"},{\"attributes\":{\"num_minor_ticks\":10},\"id\":\"1208\",\"type\":\"LogTicker\"},{\"attributes\":{\"source\":{\"id\":\"1223\",\"type\":\"ColumnDataSource\"}},\"id\":\"1227\",\"type\":\"CDSView\"},{\"attributes\":{\"line_color\":\"red\",\"line_width\":2,\"x\":{\"field\":\"x\"},\"y\":{\"field\":\"y\"}},\"id\":\"1224\",\"type\":\"Line\"},{\"attributes\":{\"fill_color\":{\"value\":null},\"line_color\":{\"value\":\"green\"},\"size\":{\"units\":\"screen\",\"value\":8},\"x\":{\"field\":\"x\"},\"y\":{\"field\":\"y\"}},\"id\":\"1266\",\"type\":\"Square\"},{\"attributes\":{\"callback\":null},\"id\":\"1212\",\"type\":\"HoverTool\"},{\"attributes\":{},\"id\":\"1247\",\"type\":\"UnionRenderers\"},{\"attributes\":{},\"id\":\"1262\",\"type\":\"UnionRenderers\"},{\"attributes\":{\"data_source\":{\"id\":\"1265\",\"type\":\"ColumnDataSource\"},\"glyph\":{\"id\":\"1266\",\"type\":\"Square\"},\"hover_glyph\":null,\"muted_glyph\":null,\"nonselection_glyph\":{\"id\":\"1267\",\"type\":\"Square\"},\"selection_glyph\":null,\"view\":{\"id\":\"1269\",\"type\":\"CDSView\"}},\"id\":\"1268\",\"type\":\"GlyphRenderer\"}],\"root_ids\":[\"1191\"]},\"title\":\"Bokeh Application\",\"version\":\"1.3.4\"}};\n",
       "  var render_items = [{\"docid\":\"8ea52064-0be4-42cd-8f42-c5dff46f245f\",\"roots\":{\"1191\":\"974b5094-b74e-433b-801d-ff616e2e94e6\"}}];\n",
       "  root.Bokeh.embed.embed_items_notebook(docs_json, render_items);\n",
       "\n",
       "  }\n",
       "  if (root.Bokeh !== undefined) {\n",
       "    embed_document(root);\n",
       "  } else {\n",
       "    var attempts = 0;\n",
       "    var timer = setInterval(function(root) {\n",
       "      if (root.Bokeh !== undefined) {\n",
       "        embed_document(root);\n",
       "        clearInterval(timer);\n",
       "      }\n",
       "      attempts++;\n",
       "      if (attempts > 100) {\n",
       "        console.log(\"Bokeh: ERROR: Unable to run BokehJS code because BokehJS library is missing\");\n",
       "        clearInterval(timer);\n",
       "      }\n",
       "    }, 10, root)\n",
       "  }\n",
       "})(window);"
      ],
      "application/vnd.bokehjs_exec.v0+json": ""
     },
     "metadata": {
      "application/vnd.bokehjs_exec.v0+json": {
       "id": "1191"
      }
     },
     "output_type": "display_data"
    }
   ],
   "source": [
    "plot_results(snr, case1, case2, '(I, J) = (2, 4)', '(I, J) = (4, 8)', 'LSKronF')"
   ]
  },
  {
   "cell_type": "markdown",
   "metadata": {},
   "source": [
    "#### For complex matrices:\n",
    "\n",
    "An extra plot for discussion. Here, the reconstructed matrix $\\hat{\\mathbf{X}}_{0}(i)$ is obtained by applying the LSKronF algorithm on the real and the imaginary parts separately."
   ]
  },
  {
   "cell_type": "code",
   "execution_count": 6,
   "metadata": {},
   "outputs": [
    {
     "data": {
      "application/vnd.jupyter.widget-view+json": {
       "model_id": "136650c931b84e789ce60f8b07eb68fb",
       "version_major": 2,
       "version_minor": 0
      },
      "text/plain": [
       "HBox(children=(IntProgress(value=0, max=1000), HTML(value='')))"
      ]
     },
     "metadata": {},
     "output_type": "display_data"
    },
    {
     "name": "stdout",
     "output_type": "stream",
     "text": [
      "\n"
     ]
    },
    {
     "data": {
      "application/vnd.jupyter.widget-view+json": {
       "model_id": "370e613606464f968ed33768fc0a2eda",
       "version_major": 2,
       "version_minor": 0
      },
      "text/plain": [
       "HBox(children=(IntProgress(value=0, max=1000), HTML(value='')))"
      ]
     },
     "metadata": {},
     "output_type": "display_data"
    },
    {
     "name": "stdout",
     "output_type": "stream",
     "text": [
      "\n"
     ]
    }
   ],
   "source": [
    "# Number of rows and columns of A and B IxP; JxQ: Complex case\n",
    "# Cases:\n",
    "shape_a1 = 2, 3; shape_b1 = 4, 5 \n",
    "shape_a2 = 4, 3; shape_b2 = 8, 5\n",
    "# SNR values:\n",
    "snr = np.arange(0, 35, 5)\n",
    "# Monte Carlo Realizations:\n",
    "mc_realizations = 1000\n",
    "#Generating data for the two cases:\n",
    "case1 = run_simulation_lskron_cp(snr, mc_realizations, shape_a1, shape_b1)\n",
    "case2 = run_simulation_lskron_cp(snr, mc_realizations, shape_a2, shape_b2)"
   ]
  },
  {
   "cell_type": "code",
   "execution_count": 9,
   "metadata": {},
   "outputs": [
    {
     "data": {
      "text/html": [
       "\n",
       "\n",
       "\n",
       "\n",
       "\n",
       "\n",
       "  <div class=\"bk-root\" id=\"ed51a318-0a96-46d0-b3c9-cd6e5a9539f0\" data-root-id=\"1842\"></div>\n"
      ]
     },
     "metadata": {},
     "output_type": "display_data"
    },
    {
     "data": {
      "application/javascript": [
       "(function(root) {\n",
       "  function embed_document(root) {\n",
       "    \n",
       "  var docs_json = {\"3eab0bb1-95ce-4318-a476-10f2bc8ae21f\":{\"roots\":{\"references\":[{\"attributes\":{\"background_fill_color\":{\"value\":\"#fafafa\"},\"below\":[{\"id\":\"1853\",\"type\":\"LinearAxis\"}],\"center\":[{\"id\":\"1857\",\"type\":\"Grid\"},{\"id\":\"1862\",\"type\":\"Grid\"},{\"id\":\"1885\",\"type\":\"Legend\"}],\"left\":[{\"id\":\"1858\",\"type\":\"LogAxis\"}],\"plot_height\":400,\"renderers\":[{\"id\":\"1877\",\"type\":\"GlyphRenderer\"},{\"id\":\"1890\",\"type\":\"GlyphRenderer\"},{\"id\":\"1903\",\"type\":\"GlyphRenderer\"},{\"id\":\"1919\",\"type\":\"GlyphRenderer\"}],\"title\":{\"id\":\"1843\",\"type\":\"Title\"},\"toolbar\":{\"id\":\"1868\",\"type\":\"Toolbar\"},\"x_range\":{\"id\":\"1845\",\"type\":\"DataRange1d\"},\"x_scale\":{\"id\":\"1849\",\"type\":\"LinearScale\"},\"y_range\":{\"id\":\"1847\",\"type\":\"DataRange1d\"},\"y_scale\":{\"id\":\"1851\",\"type\":\"LogScale\"}},\"id\":\"1842\",\"subtype\":\"Figure\",\"type\":\"Plot\"},{\"attributes\":{},\"id\":\"1880\",\"type\":\"BasicTickFormatter\"},{\"attributes\":{\"num_minor_ticks\":10},\"id\":\"1859\",\"type\":\"LogTicker\"},{\"attributes\":{\"axis_label\":\"NMSE\",\"formatter\":{\"id\":\"1882\",\"type\":\"LogTickFormatter\"},\"ticker\":{\"id\":\"1859\",\"type\":\"LogTicker\"}},\"id\":\"1858\",\"type\":\"LogAxis\"},{\"attributes\":{\"source\":{\"id\":\"1887\",\"type\":\"ColumnDataSource\"}},\"id\":\"1891\",\"type\":\"CDSView\"},{\"attributes\":{\"line_color\":\"green\",\"line_width\":2,\"x\":{\"field\":\"x\"},\"y\":{\"field\":\"y\"}},\"id\":\"1901\",\"type\":\"Line\"},{\"attributes\":{\"bottom_units\":\"screen\",\"fill_alpha\":{\"value\":0.5},\"fill_color\":{\"value\":\"lightgrey\"},\"left_units\":\"screen\",\"level\":\"overlay\",\"line_alpha\":{\"value\":1.0},\"line_color\":{\"value\":\"black\"},\"line_dash\":[4,4],\"line_width\":{\"value\":2},\"render_mode\":\"css\",\"right_units\":\"screen\",\"top_units\":\"screen\"},\"id\":\"1884\",\"type\":\"BoxAnnotation\"},{\"attributes\":{\"source\":{\"id\":\"1900\",\"type\":\"ColumnDataSource\"}},\"id\":\"1904\",\"type\":\"CDSView\"},{\"attributes\":{\"callback\":null,\"data\":{\"x\":[0,5,10,15,20,25,30],\"y\":{\"__ndarray__\":\"2QSy8mny1D98qZBKnDTCP4FvCs+FUbc/uOpzNYpwsz8NBCBvRzuyP8H6XX7b3LE/4tNWMbu9sT8=\",\"dtype\":\"float64\",\"shape\":[7]}},\"selected\":{\"id\":\"1897\",\"type\":\"Selection\"},\"selection_policy\":{\"id\":\"1898\",\"type\":\"UnionRenderers\"}},\"id\":\"1874\",\"type\":\"ColumnDataSource\"},{\"attributes\":{},\"id\":\"1912\",\"type\":\"Selection\"},{\"attributes\":{\"line_color\":\"red\",\"line_width\":2,\"x\":{\"field\":\"x\"},\"y\":{\"field\":\"y\"}},\"id\":\"1875\",\"type\":\"Line\"},{\"attributes\":{\"label\":{\"value\":\"LSKronF - (I, J) = (4, 8)\"},\"renderers\":[{\"id\":\"1903\",\"type\":\"GlyphRenderer\"},{\"id\":\"1919\",\"type\":\"GlyphRenderer\"}]},\"id\":\"1915\",\"type\":\"LegendItem\"},{\"attributes\":{\"active_drag\":\"auto\",\"active_inspect\":\"auto\",\"active_multi\":null,\"active_scroll\":\"auto\",\"active_tap\":\"auto\",\"tools\":[{\"id\":\"1863\",\"type\":\"HoverTool\"},{\"id\":\"1864\",\"type\":\"PanTool\"},{\"id\":\"1865\",\"type\":\"WheelZoomTool\"},{\"id\":\"1866\",\"type\":\"BoxZoomTool\"},{\"id\":\"1867\",\"type\":\"ResetTool\"}]},\"id\":\"1868\",\"type\":\"Toolbar\"},{\"attributes\":{},\"id\":\"1913\",\"type\":\"UnionRenderers\"},{\"attributes\":{\"callback\":null,\"data\":{\"x\":[0,5,10,15,20,25,30],\"y\":{\"__ndarray__\":\"Uj2Bw2Dyyj9mcA6HPae/P3y1pTiWVrk/fEPPMvNdtz9qBR+pbsC2P7URXa52j7Y/hIhcs+l/tj8=\",\"dtype\":\"float64\",\"shape\":[7]}},\"selected\":{\"id\":\"1930\",\"type\":\"Selection\"},\"selection_policy\":{\"id\":\"1931\",\"type\":\"UnionRenderers\"}},\"id\":\"1900\",\"type\":\"ColumnDataSource\"},{\"attributes\":{\"callback\":null,\"data\":{\"x\":[0,5,10,15,20,25,30],\"y\":{\"__ndarray__\":\"Uj2Bw2Dyyj9mcA6HPae/P3y1pTiWVrk/fEPPMvNdtz9qBR+pbsC2P7URXa52j7Y/hIhcs+l/tj8=\",\"dtype\":\"float64\",\"shape\":[7]}},\"selected\":{\"id\":\"2000\",\"type\":\"Selection\"},\"selection_policy\":{\"id\":\"2001\",\"type\":\"UnionRenderers\"}},\"id\":\"1916\",\"type\":\"ColumnDataSource\"},{\"attributes\":{\"click_policy\":\"hide\",\"items\":[{\"id\":\"1886\",\"type\":\"LegendItem\"},{\"id\":\"1915\",\"type\":\"LegendItem\"}]},\"id\":\"1885\",\"type\":\"Legend\"},{\"attributes\":{\"line_alpha\":0.1,\"line_color\":\"#1f77b4\",\"line_width\":2,\"x\":{\"field\":\"x\"},\"y\":{\"field\":\"y\"}},\"id\":\"1876\",\"type\":\"Line\"},{\"attributes\":{\"fill_color\":{\"value\":null},\"line_color\":{\"value\":\"green\"},\"size\":{\"units\":\"screen\",\"value\":8},\"x\":{\"field\":\"x\"},\"y\":{\"field\":\"y\"}},\"id\":\"1917\",\"type\":\"Square\"},{\"attributes\":{\"callback\":null},\"id\":\"1863\",\"type\":\"HoverTool\"},{\"attributes\":{\"text\":\"Normalized Error Curve - LSKronF\"},\"id\":\"1843\",\"type\":\"Title\"},{\"attributes\":{},\"id\":\"1864\",\"type\":\"PanTool\"},{\"attributes\":{\"label\":{\"value\":\"LSKronF - (I, J) = (2, 4)\"},\"renderers\":[{\"id\":\"1877\",\"type\":\"GlyphRenderer\"},{\"id\":\"1890\",\"type\":\"GlyphRenderer\"}]},\"id\":\"1886\",\"type\":\"LegendItem\"},{\"attributes\":{\"fill_alpha\":{\"value\":0.1},\"fill_color\":{\"value\":\"#1f77b4\"},\"line_alpha\":{\"value\":0.1},\"line_color\":{\"value\":\"#1f77b4\"},\"size\":{\"units\":\"screen\",\"value\":8},\"x\":{\"field\":\"x\"},\"y\":{\"field\":\"y\"}},\"id\":\"1918\",\"type\":\"Square\"},{\"attributes\":{\"callback\":null},\"id\":\"1845\",\"type\":\"DataRange1d\"},{\"attributes\":{},\"id\":\"1865\",\"type\":\"WheelZoomTool\"},{\"attributes\":{\"data_source\":{\"id\":\"1887\",\"type\":\"ColumnDataSource\"},\"glyph\":{\"id\":\"1888\",\"type\":\"Square\"},\"hover_glyph\":null,\"muted_glyph\":null,\"nonselection_glyph\":{\"id\":\"1889\",\"type\":\"Square\"},\"selection_glyph\":null,\"view\":{\"id\":\"1891\",\"type\":\"CDSView\"}},\"id\":\"1890\",\"type\":\"GlyphRenderer\"},{\"attributes\":{\"data_source\":{\"id\":\"1916\",\"type\":\"ColumnDataSource\"},\"glyph\":{\"id\":\"1917\",\"type\":\"Square\"},\"hover_glyph\":null,\"muted_glyph\":null,\"nonselection_glyph\":{\"id\":\"1918\",\"type\":\"Square\"},\"selection_glyph\":null,\"view\":{\"id\":\"1920\",\"type\":\"CDSView\"}},\"id\":\"1919\",\"type\":\"GlyphRenderer\"},{\"attributes\":{\"overlay\":{\"id\":\"1884\",\"type\":\"BoxAnnotation\"}},\"id\":\"1866\",\"type\":\"BoxZoomTool\"},{\"attributes\":{},\"id\":\"1849\",\"type\":\"LinearScale\"},{\"attributes\":{\"source\":{\"id\":\"1916\",\"type\":\"ColumnDataSource\"}},\"id\":\"1920\",\"type\":\"CDSView\"},{\"attributes\":{},\"id\":\"1867\",\"type\":\"ResetTool\"},{\"attributes\":{\"callback\":null},\"id\":\"1847\",\"type\":\"DataRange1d\"},{\"attributes\":{},\"id\":\"1898\",\"type\":\"UnionRenderers\"},{\"attributes\":{},\"id\":\"1930\",\"type\":\"Selection\"},{\"attributes\":{},\"id\":\"2000\",\"type\":\"Selection\"},{\"attributes\":{\"line_alpha\":0.1,\"line_color\":\"#1f77b4\",\"line_width\":2,\"x\":{\"field\":\"x\"},\"y\":{\"field\":\"y\"}},\"id\":\"1902\",\"type\":\"Line\"},{\"attributes\":{},\"id\":\"1931\",\"type\":\"UnionRenderers\"},{\"attributes\":{},\"id\":\"1851\",\"type\":\"LogScale\"},{\"attributes\":{\"data_source\":{\"id\":\"1874\",\"type\":\"ColumnDataSource\"},\"glyph\":{\"id\":\"1875\",\"type\":\"Line\"},\"hover_glyph\":null,\"muted_glyph\":null,\"nonselection_glyph\":{\"id\":\"1876\",\"type\":\"Line\"},\"selection_glyph\":null,\"view\":{\"id\":\"1878\",\"type\":\"CDSView\"}},\"id\":\"1877\",\"type\":\"GlyphRenderer\"},{\"attributes\":{\"ticker\":null},\"id\":\"1882\",\"type\":\"LogTickFormatter\"},{\"attributes\":{\"fill_color\":{\"value\":null},\"line_color\":{\"value\":\"red\"},\"size\":{\"units\":\"screen\",\"value\":8},\"x\":{\"field\":\"x\"},\"y\":{\"field\":\"y\"}},\"id\":\"1888\",\"type\":\"Square\"},{\"attributes\":{\"axis_label\":\"SNR [dB]\",\"formatter\":{\"id\":\"1880\",\"type\":\"BasicTickFormatter\"},\"ticker\":{\"id\":\"1854\",\"type\":\"BasicTicker\"}},\"id\":\"1853\",\"type\":\"LinearAxis\"},{\"attributes\":{\"callback\":null,\"data\":{\"x\":[0,5,10,15,20,25,30],\"y\":{\"__ndarray__\":\"2QSy8mny1D98qZBKnDTCP4FvCs+FUbc/uOpzNYpwsz8NBCBvRzuyP8H6XX7b3LE/4tNWMbu9sT8=\",\"dtype\":\"float64\",\"shape\":[7]}},\"selected\":{\"id\":\"1912\",\"type\":\"Selection\"},\"selection_policy\":{\"id\":\"1913\",\"type\":\"UnionRenderers\"}},\"id\":\"1887\",\"type\":\"ColumnDataSource\"},{\"attributes\":{\"dimension\":1,\"ticker\":{\"id\":\"1859\",\"type\":\"LogTicker\"}},\"id\":\"1862\",\"type\":\"Grid\"},{\"attributes\":{\"data_source\":{\"id\":\"1900\",\"type\":\"ColumnDataSource\"},\"glyph\":{\"id\":\"1901\",\"type\":\"Line\"},\"hover_glyph\":null,\"muted_glyph\":null,\"nonselection_glyph\":{\"id\":\"1902\",\"type\":\"Line\"},\"selection_glyph\":null,\"view\":{\"id\":\"1904\",\"type\":\"CDSView\"}},\"id\":\"1903\",\"type\":\"GlyphRenderer\"},{\"attributes\":{},\"id\":\"1897\",\"type\":\"Selection\"},{\"attributes\":{},\"id\":\"2001\",\"type\":\"UnionRenderers\"},{\"attributes\":{},\"id\":\"1854\",\"type\":\"BasicTicker\"},{\"attributes\":{\"source\":{\"id\":\"1874\",\"type\":\"ColumnDataSource\"}},\"id\":\"1878\",\"type\":\"CDSView\"},{\"attributes\":{\"fill_alpha\":{\"value\":0.1},\"fill_color\":{\"value\":\"#1f77b4\"},\"line_alpha\":{\"value\":0.1},\"line_color\":{\"value\":\"#1f77b4\"},\"size\":{\"units\":\"screen\",\"value\":8},\"x\":{\"field\":\"x\"},\"y\":{\"field\":\"y\"}},\"id\":\"1889\",\"type\":\"Square\"},{\"attributes\":{\"ticker\":{\"id\":\"1854\",\"type\":\"BasicTicker\"}},\"id\":\"1857\",\"type\":\"Grid\"}],\"root_ids\":[\"1842\"]},\"title\":\"Bokeh Application\",\"version\":\"1.3.4\"}};\n",
       "  var render_items = [{\"docid\":\"3eab0bb1-95ce-4318-a476-10f2bc8ae21f\",\"roots\":{\"1842\":\"ed51a318-0a96-46d0-b3c9-cd6e5a9539f0\"}}];\n",
       "  root.Bokeh.embed.embed_items_notebook(docs_json, render_items);\n",
       "\n",
       "  }\n",
       "  if (root.Bokeh !== undefined) {\n",
       "    embed_document(root);\n",
       "  } else {\n",
       "    var attempts = 0;\n",
       "    var timer = setInterval(function(root) {\n",
       "      if (root.Bokeh !== undefined) {\n",
       "        embed_document(root);\n",
       "        clearInterval(timer);\n",
       "      }\n",
       "      attempts++;\n",
       "      if (attempts > 100) {\n",
       "        console.log(\"Bokeh: ERROR: Unable to run BokehJS code because BokehJS library is missing\");\n",
       "        clearInterval(timer);\n",
       "      }\n",
       "    }, 10, root)\n",
       "  }\n",
       "})(window);"
      ],
      "application/vnd.bokehjs_exec.v0+json": ""
     },
     "metadata": {
      "application/vnd.bokehjs_exec.v0+json": {
       "id": "1842"
      }
     },
     "output_type": "display_data"
    }
   ],
   "source": [
    "plot_results(snr, case1, case2, '(I, J) = (2, 4)', '(I, J) = (4, 8)', 'LSKronF')"
   ]
  }
 ],
 "metadata": {
  "file_extension": ".py",
  "kernelspec": {
   "display_name": "Python 3",
   "language": "python",
   "name": "python3"
  },
  "language_info": {
   "codemirror_mode": {
    "name": "ipython",
    "version": 3
   },
   "file_extension": ".py",
   "mimetype": "text/x-python",
   "name": "python",
   "nbconvert_exporter": "python",
   "pygments_lexer": "ipython3",
   "version": "3.7.4"
  },
  "mimetype": "text/x-python",
  "name": "python",
  "npconvert_exporter": "python",
  "pygments_lexer": "ipython3",
  "version": 3
 },
 "nbformat": 4,
 "nbformat_minor": 4
}
