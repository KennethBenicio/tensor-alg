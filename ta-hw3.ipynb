{
 "cells": [
  {
   "cell_type": "markdown",
   "metadata": {},
   "source": [
    "# Federal University of Ceará\n",
    "# Teleinformatics Departament\n",
    "# Graduate Program in Teleinformatics Engeneering\n",
    "## TIP8419 - Tensor Algebra\n",
    "## Homework 3 - Least-Squares Khatri-Rao Factorization (LSKRF)\n",
    "### Report and Simulation results\n",
    "\n",
    "- Ezequias Márcio - 497779\n",
    "\n",
    "To run this notebook properly, it is necessary Python3 installed alongside alongside with the packages listed below:\n",
    "\n",
    "- `numpy 1.17.2`\n",
    "- `scipy 1.4.1`\n",
    "- `tdqm 4.36.1`\n",
    "- `bokeh 1.3.4`\n",
    "\n",
    "Make sure that the files `tensoralg.py` and `ta_simulations.py` are in the same directory as this notebook. In this files, it can be found the tensor algebra module functions and the code listings of the simulations."
   ]
  },
  {
   "cell_type": "code",
   "execution_count": 1,
   "metadata": {},
   "outputs": [
    {
     "data": {
      "text/html": [
       "\n",
       "    <div class=\"bk-root\">\n",
       "        <a href=\"https://bokeh.pydata.org\" target=\"_blank\" class=\"bk-logo bk-logo-small bk-logo-notebook\"></a>\n",
       "        <span id=\"1001\">Loading BokehJS ...</span>\n",
       "    </div>"
      ]
     },
     "metadata": {},
     "output_type": "display_data"
    },
    {
     "data": {
      "application/javascript": [
       "\n",
       "(function(root) {\n",
       "  function now() {\n",
       "    return new Date();\n",
       "  }\n",
       "\n",
       "  var force = true;\n",
       "\n",
       "  if (typeof root._bokeh_onload_callbacks === \"undefined\" || force === true) {\n",
       "    root._bokeh_onload_callbacks = [];\n",
       "    root._bokeh_is_loading = undefined;\n",
       "  }\n",
       "\n",
       "  var JS_MIME_TYPE = 'application/javascript';\n",
       "  var HTML_MIME_TYPE = 'text/html';\n",
       "  var EXEC_MIME_TYPE = 'application/vnd.bokehjs_exec.v0+json';\n",
       "  var CLASS_NAME = 'output_bokeh rendered_html';\n",
       "\n",
       "  /**\n",
       "   * Render data to the DOM node\n",
       "   */\n",
       "  function render(props, node) {\n",
       "    var script = document.createElement(\"script\");\n",
       "    node.appendChild(script);\n",
       "  }\n",
       "\n",
       "  /**\n",
       "   * Handle when an output is cleared or removed\n",
       "   */\n",
       "  function handleClearOutput(event, handle) {\n",
       "    var cell = handle.cell;\n",
       "\n",
       "    var id = cell.output_area._bokeh_element_id;\n",
       "    var server_id = cell.output_area._bokeh_server_id;\n",
       "    // Clean up Bokeh references\n",
       "    if (id != null && id in Bokeh.index) {\n",
       "      Bokeh.index[id].model.document.clear();\n",
       "      delete Bokeh.index[id];\n",
       "    }\n",
       "\n",
       "    if (server_id !== undefined) {\n",
       "      // Clean up Bokeh references\n",
       "      var cmd = \"from bokeh.io.state import curstate; print(curstate().uuid_to_server['\" + server_id + \"'].get_sessions()[0].document.roots[0]._id)\";\n",
       "      cell.notebook.kernel.execute(cmd, {\n",
       "        iopub: {\n",
       "          output: function(msg) {\n",
       "            var id = msg.content.text.trim();\n",
       "            if (id in Bokeh.index) {\n",
       "              Bokeh.index[id].model.document.clear();\n",
       "              delete Bokeh.index[id];\n",
       "            }\n",
       "          }\n",
       "        }\n",
       "      });\n",
       "      // Destroy server and session\n",
       "      var cmd = \"import bokeh.io.notebook as ion; ion.destroy_server('\" + server_id + \"')\";\n",
       "      cell.notebook.kernel.execute(cmd);\n",
       "    }\n",
       "  }\n",
       "\n",
       "  /**\n",
       "   * Handle when a new output is added\n",
       "   */\n",
       "  function handleAddOutput(event, handle) {\n",
       "    var output_area = handle.output_area;\n",
       "    var output = handle.output;\n",
       "\n",
       "    // limit handleAddOutput to display_data with EXEC_MIME_TYPE content only\n",
       "    if ((output.output_type != \"display_data\") || (!output.data.hasOwnProperty(EXEC_MIME_TYPE))) {\n",
       "      return\n",
       "    }\n",
       "\n",
       "    var toinsert = output_area.element.find(\".\" + CLASS_NAME.split(' ')[0]);\n",
       "\n",
       "    if (output.metadata[EXEC_MIME_TYPE][\"id\"] !== undefined) {\n",
       "      toinsert[toinsert.length - 1].firstChild.textContent = output.data[JS_MIME_TYPE];\n",
       "      // store reference to embed id on output_area\n",
       "      output_area._bokeh_element_id = output.metadata[EXEC_MIME_TYPE][\"id\"];\n",
       "    }\n",
       "    if (output.metadata[EXEC_MIME_TYPE][\"server_id\"] !== undefined) {\n",
       "      var bk_div = document.createElement(\"div\");\n",
       "      bk_div.innerHTML = output.data[HTML_MIME_TYPE];\n",
       "      var script_attrs = bk_div.children[0].attributes;\n",
       "      for (var i = 0; i < script_attrs.length; i++) {\n",
       "        toinsert[toinsert.length - 1].firstChild.setAttribute(script_attrs[i].name, script_attrs[i].value);\n",
       "      }\n",
       "      // store reference to server id on output_area\n",
       "      output_area._bokeh_server_id = output.metadata[EXEC_MIME_TYPE][\"server_id\"];\n",
       "    }\n",
       "  }\n",
       "\n",
       "  function register_renderer(events, OutputArea) {\n",
       "\n",
       "    function append_mime(data, metadata, element) {\n",
       "      // create a DOM node to render to\n",
       "      var toinsert = this.create_output_subarea(\n",
       "        metadata,\n",
       "        CLASS_NAME,\n",
       "        EXEC_MIME_TYPE\n",
       "      );\n",
       "      this.keyboard_manager.register_events(toinsert);\n",
       "      // Render to node\n",
       "      var props = {data: data, metadata: metadata[EXEC_MIME_TYPE]};\n",
       "      render(props, toinsert[toinsert.length - 1]);\n",
       "      element.append(toinsert);\n",
       "      return toinsert\n",
       "    }\n",
       "\n",
       "    /* Handle when an output is cleared or removed */\n",
       "    events.on('clear_output.CodeCell', handleClearOutput);\n",
       "    events.on('delete.Cell', handleClearOutput);\n",
       "\n",
       "    /* Handle when a new output is added */\n",
       "    events.on('output_added.OutputArea', handleAddOutput);\n",
       "\n",
       "    /**\n",
       "     * Register the mime type and append_mime function with output_area\n",
       "     */\n",
       "    OutputArea.prototype.register_mime_type(EXEC_MIME_TYPE, append_mime, {\n",
       "      /* Is output safe? */\n",
       "      safe: true,\n",
       "      /* Index of renderer in `output_area.display_order` */\n",
       "      index: 0\n",
       "    });\n",
       "  }\n",
       "\n",
       "  // register the mime type if in Jupyter Notebook environment and previously unregistered\n",
       "  if (root.Jupyter !== undefined) {\n",
       "    var events = require('base/js/events');\n",
       "    var OutputArea = require('notebook/js/outputarea').OutputArea;\n",
       "\n",
       "    if (OutputArea.prototype.mime_types().indexOf(EXEC_MIME_TYPE) == -1) {\n",
       "      register_renderer(events, OutputArea);\n",
       "    }\n",
       "  }\n",
       "\n",
       "  \n",
       "  if (typeof (root._bokeh_timeout) === \"undefined\" || force === true) {\n",
       "    root._bokeh_timeout = Date.now() + 5000;\n",
       "    root._bokeh_failed_load = false;\n",
       "  }\n",
       "\n",
       "  var NB_LOAD_WARNING = {'data': {'text/html':\n",
       "     \"<div style='background-color: #fdd'>\\n\"+\n",
       "     \"<p>\\n\"+\n",
       "     \"BokehJS does not appear to have successfully loaded. If loading BokehJS from CDN, this \\n\"+\n",
       "     \"may be due to a slow or bad network connection. Possible fixes:\\n\"+\n",
       "     \"</p>\\n\"+\n",
       "     \"<ul>\\n\"+\n",
       "     \"<li>re-rerun `output_notebook()` to attempt to load from CDN again, or</li>\\n\"+\n",
       "     \"<li>use INLINE resources instead, as so:</li>\\n\"+\n",
       "     \"</ul>\\n\"+\n",
       "     \"<code>\\n\"+\n",
       "     \"from bokeh.resources import INLINE\\n\"+\n",
       "     \"output_notebook(resources=INLINE)\\n\"+\n",
       "     \"</code>\\n\"+\n",
       "     \"</div>\"}};\n",
       "\n",
       "  function display_loaded() {\n",
       "    var el = document.getElementById(\"1001\");\n",
       "    if (el != null) {\n",
       "      el.textContent = \"BokehJS is loading...\";\n",
       "    }\n",
       "    if (root.Bokeh !== undefined) {\n",
       "      if (el != null) {\n",
       "        el.textContent = \"BokehJS \" + root.Bokeh.version + \" successfully loaded.\";\n",
       "      }\n",
       "    } else if (Date.now() < root._bokeh_timeout) {\n",
       "      setTimeout(display_loaded, 100)\n",
       "    }\n",
       "  }\n",
       "\n",
       "\n",
       "  function run_callbacks() {\n",
       "    try {\n",
       "      root._bokeh_onload_callbacks.forEach(function(callback) {\n",
       "        if (callback != null)\n",
       "          callback();\n",
       "      });\n",
       "    } finally {\n",
       "      delete root._bokeh_onload_callbacks\n",
       "    }\n",
       "    console.debug(\"Bokeh: all callbacks have finished\");\n",
       "  }\n",
       "\n",
       "  function load_libs(css_urls, js_urls, callback) {\n",
       "    if (css_urls == null) css_urls = [];\n",
       "    if (js_urls == null) js_urls = [];\n",
       "\n",
       "    root._bokeh_onload_callbacks.push(callback);\n",
       "    if (root._bokeh_is_loading > 0) {\n",
       "      console.debug(\"Bokeh: BokehJS is being loaded, scheduling callback at\", now());\n",
       "      return null;\n",
       "    }\n",
       "    if (js_urls == null || js_urls.length === 0) {\n",
       "      run_callbacks();\n",
       "      return null;\n",
       "    }\n",
       "    console.debug(\"Bokeh: BokehJS not loaded, scheduling load and callback at\", now());\n",
       "    root._bokeh_is_loading = css_urls.length + js_urls.length;\n",
       "\n",
       "    function on_load() {\n",
       "      root._bokeh_is_loading--;\n",
       "      if (root._bokeh_is_loading === 0) {\n",
       "        console.debug(\"Bokeh: all BokehJS libraries/stylesheets loaded\");\n",
       "        run_callbacks()\n",
       "      }\n",
       "    }\n",
       "\n",
       "    function on_error() {\n",
       "      console.error(\"failed to load \" + url);\n",
       "    }\n",
       "\n",
       "    for (var i = 0; i < css_urls.length; i++) {\n",
       "      var url = css_urls[i];\n",
       "      const element = document.createElement(\"link\");\n",
       "      element.onload = on_load;\n",
       "      element.onerror = on_error;\n",
       "      element.rel = \"stylesheet\";\n",
       "      element.type = \"text/css\";\n",
       "      element.href = url;\n",
       "      console.debug(\"Bokeh: injecting link tag for BokehJS stylesheet: \", url);\n",
       "      document.body.appendChild(element);\n",
       "    }\n",
       "\n",
       "    for (var i = 0; i < js_urls.length; i++) {\n",
       "      var url = js_urls[i];\n",
       "      var element = document.createElement('script');\n",
       "      element.onload = on_load;\n",
       "      element.onerror = on_error;\n",
       "      element.async = false;\n",
       "      element.src = url;\n",
       "      console.debug(\"Bokeh: injecting script tag for BokehJS library: \", url);\n",
       "      document.head.appendChild(element);\n",
       "    }\n",
       "  };var element = document.getElementById(\"1001\");\n",
       "  if (element == null) {\n",
       "    console.error(\"Bokeh: ERROR: autoload.js configured with elementid '1001' but no matching script tag was found. \")\n",
       "    return false;\n",
       "  }\n",
       "\n",
       "  function inject_raw_css(css) {\n",
       "    const element = document.createElement(\"style\");\n",
       "    element.appendChild(document.createTextNode(css));\n",
       "    document.body.appendChild(element);\n",
       "  }\n",
       "\n",
       "  var js_urls = [\"https://cdn.pydata.org/bokeh/release/bokeh-1.3.4.min.js\", \"https://cdn.pydata.org/bokeh/release/bokeh-widgets-1.3.4.min.js\", \"https://cdn.pydata.org/bokeh/release/bokeh-tables-1.3.4.min.js\", \"https://cdn.pydata.org/bokeh/release/bokeh-gl-1.3.4.min.js\"];\n",
       "  var css_urls = [];\n",
       "\n",
       "  var inline_js = [\n",
       "    function(Bokeh) {\n",
       "      Bokeh.set_log_level(\"info\");\n",
       "    },\n",
       "    \n",
       "    function(Bokeh) {\n",
       "      \n",
       "    },\n",
       "    function(Bokeh) {} // ensure no trailing comma for IE\n",
       "  ];\n",
       "\n",
       "  function run_inline_js() {\n",
       "    \n",
       "    if ((root.Bokeh !== undefined) || (force === true)) {\n",
       "      for (var i = 0; i < inline_js.length; i++) {\n",
       "        inline_js[i].call(root, root.Bokeh);\n",
       "      }if (force === true) {\n",
       "        display_loaded();\n",
       "      }} else if (Date.now() < root._bokeh_timeout) {\n",
       "      setTimeout(run_inline_js, 100);\n",
       "    } else if (!root._bokeh_failed_load) {\n",
       "      console.log(\"Bokeh: BokehJS failed to load within specified timeout.\");\n",
       "      root._bokeh_failed_load = true;\n",
       "    } else if (force !== true) {\n",
       "      var cell = $(document.getElementById(\"1001\")).parents('.cell').data().cell;\n",
       "      cell.output_area.append_execute_result(NB_LOAD_WARNING)\n",
       "    }\n",
       "\n",
       "  }\n",
       "\n",
       "  if (root._bokeh_is_loading === 0) {\n",
       "    console.debug(\"Bokeh: BokehJS loaded, going straight to plotting\");\n",
       "    run_inline_js();\n",
       "  } else {\n",
       "    load_libs(css_urls, js_urls, function() {\n",
       "      console.debug(\"Bokeh: BokehJS plotting callback run at\", now());\n",
       "      run_inline_js();\n",
       "    });\n",
       "  }\n",
       "}(window));"
      ],
      "application/vnd.bokehjs_load.v0+json": "\n(function(root) {\n  function now() {\n    return new Date();\n  }\n\n  var force = true;\n\n  if (typeof root._bokeh_onload_callbacks === \"undefined\" || force === true) {\n    root._bokeh_onload_callbacks = [];\n    root._bokeh_is_loading = undefined;\n  }\n\n  \n\n  \n  if (typeof (root._bokeh_timeout) === \"undefined\" || force === true) {\n    root._bokeh_timeout = Date.now() + 5000;\n    root._bokeh_failed_load = false;\n  }\n\n  var NB_LOAD_WARNING = {'data': {'text/html':\n     \"<div style='background-color: #fdd'>\\n\"+\n     \"<p>\\n\"+\n     \"BokehJS does not appear to have successfully loaded. If loading BokehJS from CDN, this \\n\"+\n     \"may be due to a slow or bad network connection. Possible fixes:\\n\"+\n     \"</p>\\n\"+\n     \"<ul>\\n\"+\n     \"<li>re-rerun `output_notebook()` to attempt to load from CDN again, or</li>\\n\"+\n     \"<li>use INLINE resources instead, as so:</li>\\n\"+\n     \"</ul>\\n\"+\n     \"<code>\\n\"+\n     \"from bokeh.resources import INLINE\\n\"+\n     \"output_notebook(resources=INLINE)\\n\"+\n     \"</code>\\n\"+\n     \"</div>\"}};\n\n  function display_loaded() {\n    var el = document.getElementById(\"1001\");\n    if (el != null) {\n      el.textContent = \"BokehJS is loading...\";\n    }\n    if (root.Bokeh !== undefined) {\n      if (el != null) {\n        el.textContent = \"BokehJS \" + root.Bokeh.version + \" successfully loaded.\";\n      }\n    } else if (Date.now() < root._bokeh_timeout) {\n      setTimeout(display_loaded, 100)\n    }\n  }\n\n\n  function run_callbacks() {\n    try {\n      root._bokeh_onload_callbacks.forEach(function(callback) {\n        if (callback != null)\n          callback();\n      });\n    } finally {\n      delete root._bokeh_onload_callbacks\n    }\n    console.debug(\"Bokeh: all callbacks have finished\");\n  }\n\n  function load_libs(css_urls, js_urls, callback) {\n    if (css_urls == null) css_urls = [];\n    if (js_urls == null) js_urls = [];\n\n    root._bokeh_onload_callbacks.push(callback);\n    if (root._bokeh_is_loading > 0) {\n      console.debug(\"Bokeh: BokehJS is being loaded, scheduling callback at\", now());\n      return null;\n    }\n    if (js_urls == null || js_urls.length === 0) {\n      run_callbacks();\n      return null;\n    }\n    console.debug(\"Bokeh: BokehJS not loaded, scheduling load and callback at\", now());\n    root._bokeh_is_loading = css_urls.length + js_urls.length;\n\n    function on_load() {\n      root._bokeh_is_loading--;\n      if (root._bokeh_is_loading === 0) {\n        console.debug(\"Bokeh: all BokehJS libraries/stylesheets loaded\");\n        run_callbacks()\n      }\n    }\n\n    function on_error() {\n      console.error(\"failed to load \" + url);\n    }\n\n    for (var i = 0; i < css_urls.length; i++) {\n      var url = css_urls[i];\n      const element = document.createElement(\"link\");\n      element.onload = on_load;\n      element.onerror = on_error;\n      element.rel = \"stylesheet\";\n      element.type = \"text/css\";\n      element.href = url;\n      console.debug(\"Bokeh: injecting link tag for BokehJS stylesheet: \", url);\n      document.body.appendChild(element);\n    }\n\n    for (var i = 0; i < js_urls.length; i++) {\n      var url = js_urls[i];\n      var element = document.createElement('script');\n      element.onload = on_load;\n      element.onerror = on_error;\n      element.async = false;\n      element.src = url;\n      console.debug(\"Bokeh: injecting script tag for BokehJS library: \", url);\n      document.head.appendChild(element);\n    }\n  };var element = document.getElementById(\"1001\");\n  if (element == null) {\n    console.error(\"Bokeh: ERROR: autoload.js configured with elementid '1001' but no matching script tag was found. \")\n    return false;\n  }\n\n  function inject_raw_css(css) {\n    const element = document.createElement(\"style\");\n    element.appendChild(document.createTextNode(css));\n    document.body.appendChild(element);\n  }\n\n  var js_urls = [\"https://cdn.pydata.org/bokeh/release/bokeh-1.3.4.min.js\", \"https://cdn.pydata.org/bokeh/release/bokeh-widgets-1.3.4.min.js\", \"https://cdn.pydata.org/bokeh/release/bokeh-tables-1.3.4.min.js\", \"https://cdn.pydata.org/bokeh/release/bokeh-gl-1.3.4.min.js\"];\n  var css_urls = [];\n\n  var inline_js = [\n    function(Bokeh) {\n      Bokeh.set_log_level(\"info\");\n    },\n    \n    function(Bokeh) {\n      \n    },\n    function(Bokeh) {} // ensure no trailing comma for IE\n  ];\n\n  function run_inline_js() {\n    \n    if ((root.Bokeh !== undefined) || (force === true)) {\n      for (var i = 0; i < inline_js.length; i++) {\n        inline_js[i].call(root, root.Bokeh);\n      }if (force === true) {\n        display_loaded();\n      }} else if (Date.now() < root._bokeh_timeout) {\n      setTimeout(run_inline_js, 100);\n    } else if (!root._bokeh_failed_load) {\n      console.log(\"Bokeh: BokehJS failed to load within specified timeout.\");\n      root._bokeh_failed_load = true;\n    } else if (force !== true) {\n      var cell = $(document.getElementById(\"1001\")).parents('.cell').data().cell;\n      cell.output_area.append_execute_result(NB_LOAD_WARNING)\n    }\n\n  }\n\n  if (root._bokeh_is_loading === 0) {\n    console.debug(\"Bokeh: BokehJS loaded, going straight to plotting\");\n    run_inline_js();\n  } else {\n    load_libs(css_urls, js_urls, function() {\n      console.debug(\"Bokeh: BokehJS plotting callback run at\", now());\n      run_inline_js();\n    });\n  }\n}(window));"
     },
     "metadata": {},
     "output_type": "display_data"
    }
   ],
   "source": [
    "# Importing the simulation module:\n",
    "from ta_simulations import *\n",
    "np.set_printoptions(3, linewidth=175)\n",
    "output_notebook()"
   ]
  },
  {
   "cell_type": "markdown",
   "metadata": {},
   "source": [
    "### Part 1\n",
    "\n",
    "- Generate $\\mathbf{X} = \\mathbf{A}\\diamond \\mathbf{B} \\in \\mathbb{C}^{24×2}$, for randomly chosen $\\mathbf{A} \\in \\mathbb{C}^{4×2}$ and $\\mathbf{B} \\in \\mathbb{C}^{6×2}$. Then, implement the Least-Squares Khatri-Rao Factorization (LSKRF) algorithm that estimate $\\mathbf{A}$ and $\\mathbf{B}$ by solving the following problem:\n",
    "\n",
    "\\begin{equation}\n",
    "    (\\hat{\\mathbf{A}},\\hat{\\mathbf{B}}) = \\underset{\\mathbf{A},\\mathbf{B}}{min} ||\\mathbf{X} - \\mathbf{A}\\diamond \\mathbf{B}|| ^{2}_{F}\n",
    "\\end{equation}\n",
    "\n",
    "- Compare the estimated matrices $\\hat{\\mathbf{A}}$ and $\\hat{\\mathbf{B}}$ with the original ones. What can you conclude? Explain the results.\n",
    "\n",
    "### Solution: \n",
    "\n",
    "- Testing the implemented LSKRF function:\n",
    "\n",
    "In the cell below, the matrices $\\mathbf{A} \\in \\mathbb{C}^{4×2}$ an $\\mathbf{B} \\in \\mathbb{C}^{6×2}$ are randomly generated and is calculated the squared error between these matrices and their estimates for comparison."
   ]
  },
  {
   "cell_type": "code",
   "execution_count": 72,
   "metadata": {},
   "outputs": [
    {
     "name": "stdout",
     "output_type": "stream",
     "text": [
      "Squared Errors:\n",
      "- Matrix A: 10.394257188964351\n",
      "- Matrix B: 19.69804955667915\n",
      "- Matrix X: 5.188656585775744\n"
     ]
    }
   ],
   "source": [
    "# Testing the Least-Squares Khatri-Rao Factorization:\n",
    "# Generating random matrices: A (4x2) and B (6x2)\n",
    "A = rand(4, 2*2).view(np.complex_)\n",
    "B = rand(6, 2*2).view(np.complex_)\n",
    "X = tensoralg.kr(A, B)\n",
    "# Estimating matrices A and B:\n",
    "A_hat, B_hat = tensoralg.lskrf(X, A.shape[0], B.shape[0])\n",
    "# Calculating the squared error\n",
    "errorA = norm(A - A_hat, 'fro')**2\n",
    "errorB = norm(B - B_hat, 'fro')**2\n",
    "errorX = norm(X - tensoralg.kr(A_hat, B_hat), 'fro')**2\n",
    "print(f'''Squared Errors:\\n- Matrix A: {errorA}\\n- Matrix B: {errorB}\n",
    "- Matrix X: {errorX}''')"
   ]
  },
  {
   "cell_type": "markdown",
   "metadata": {},
   "source": [
    "As can be seen by the result above, the error betwene the estimated matrices and the oringinal ones is high. However, the error between the reconstructed version of $\\mathbf{X}$ $(\\hat{\\mathbf{A}}\\diamond \\hat{\\mathbf{B}})$ and the original is minimized by the LSKRF algorithm.\n",
    "\n",
    "The porpouse of the LSKRF algorithm is to find the matrices $\\hat{\\mathbf{A}}$ and $\\hat{\\mathbf{B}}$ that minimizes the squared error between the original matrix and your reconstructed version by using the best rank-1 approximation of each column of $\\mathbf{X}$. Doing that, each column of the matrices $\\hat{\\mathbf{A}}$ and $\\hat{\\mathbf{B}}$ is reconstructed by the truncated version of the SVD of each column of $\\mathbf{X}$. Because only the first singular value and vectors are chosen for that truncated SVD, the estimated matrices are not close to the original ones, that is evidenced by the high error values above.\n",
    "\n",
    "Also, in this complex matrices case the error of the imaginary part is considered. The error considering real matrices is near than zero. It can be seen below, where the provided matrices are real.\n",
    "\n",
    "- Validating the results:\n",
    "\n",
    "Using the provided matrices, it can be seen below that the implemented algorithm is working as expected, presenting a small error for the reconstructed matrix."
   ]
  },
  {
   "cell_type": "code",
   "execution_count": 3,
   "metadata": {},
   "outputs": [
    {
     "name": "stdout",
     "output_type": "stream",
     "text": [
      "Squared Errors:\n",
      "- Matrix A: 64.12906997763164\n",
      "- Matrix B: 59.31911461019167\n",
      "- Matrix X: 1.7749677053948895e-30\n"
     ]
    }
   ],
   "source": [
    "# Validating the results with the matrices provided:\n",
    "# Loading the .m file given as a python dictionary:\n",
    "krf_data = loadmat('m-files/krf_matrix.mat')\n",
    "# Extracting data:\n",
    "realA = np.array(krf_data['A'])\n",
    "realB = np.array(krf_data['B'])\n",
    "realX = np.array(krf_data['X'])\n",
    "# print(realA, realB)\n",
    "# Estimating matrices A and B:\n",
    "Ahat, Bhat = tensoralg.lskrf(realX, realA.shape[0], realB.shape[0])\n",
    "# Calculating the squared error\n",
    "A_error = norm(realA - Ahat, 'fro')**2\n",
    "B_error = norm(realB - Bhat, 'fro')**2\n",
    "X_error = norm(realX - tensoralg.kr(Ahat, Bhat), 'fro')**2\n",
    "print(f'''Squared Errors:\\n- Matrix A: {A_error}\\n- Matrix B: {B_error}\n",
    "- Matrix X: {X_error}''')"
   ]
  },
  {
   "cell_type": "markdown",
   "metadata": {},
   "source": [
    "### Part 2: \n",
    "- Assuming 1000 Monte Carlo experiments, generate  $\\mathbf{X}_{0} = \\mathbf{A}\\diamond \\mathbf{B} \\in \\mathbb{C}^{IJ×R}$, for randomly chosen $\\mathbf{A} \\in \\mathbb{C}^{I×R}$ and $\\mathbf{B} \\in \\mathbb{C}^{J×R}$, with R = 4, whose elements are drawn from a normal distribution. Let $\\mathbf{X} = \\mathbf{X}_{0} + \\alpha \\mathbf{V}$ be a noisy version of $\\mathbf{X}_{0}$ where $\\mathbf{V}$ is the additive noise term, whose elements are drawn from a normal distribution. The parameter $\\alpha$ controls the power (variance) of the noise term, and is defined as a function of the signal to noise ratio (SNR), in dB, as follows:\\begin{equation}\n",
    "    SNR_{dB} = 10 \\log_{10} \\frac{||\\mathbf{X}_{0}||^{2}_{F}}{||\\alpha \\mathbf{V}||^{2}_{F}}\\end{equation}\n",
    "\n",
    "- Assuming the SNR range $[0, 5, 10, 15, 20, 25, 30]$ dB, find the estimates $\\hat{\\mathbf{A}}$ and $\\hat{\\mathbf{B}}$ obtained with the LSKRF algorithm for the configurations $(I, J) = (10, 10)$ and $(I, J) = (30, 10)$. Let us define the normalized mean square error (NMSE) measure as follows:\\begin{equation}\n",
    "    \\text{NMSE}(\\mathbf{X}_{0}) = \\frac{1}{1000} \\sum^{1000}_{i = 1} \\frac{||\\hat{\\mathbf{X}}_{0}(i) - \\mathbf{X}_{0}(i)||^{2}_{F}}{||\\mathbf{X}_{0}(i)||^{2}_{F}}\\end{equation}  \n",
    "  where $\\mathbf{X}_{0}(i)$ and $\\hat{\\mathbf{X}}_{0}(i)$ represent the original data matrix and the reconstructed one at the ith experiment, respectively. For each SNR value and configuration, plot the NMSE vs. SNR curve. Discuss the obtained results.\n",
    "\n",
    "### Solution:\n",
    "\n",
    "- Monte Carlo Simulation\n",
    "\n",
    "The simulation results are generated in the cell below. First, for the 1000 realizations, the matrix $\\mathbf{X}_{0}(i)$ is generated and then, for each value of SNR, it is added Gaussian noise to the matrix tha will be the input of the LSKRF algorithm. After that, with the estimated matrices $\\hat{\\mathbf{A}}$ and $\\hat{\\mathbf{B}}$ are used to build the estimative $\\hat{\\mathbf{X}}_{0}(i)$. Lastly, the RMSE between the estimated matrix and the original is sorted. This process is implemented in the function `run_simulation_lskr`."
   ]
  },
  {
   "cell_type": "code",
   "execution_count": 78,
   "metadata": {},
   "outputs": [
    {
     "data": {
      "application/vnd.jupyter.widget-view+json": {
       "model_id": "66284d8e6f854e7689c7918cc4189246",
       "version_major": 2,
       "version_minor": 0
      },
      "text/plain": [
       "HBox(children=(IntProgress(value=0, max=1000), HTML(value='')))"
      ]
     },
     "metadata": {},
     "output_type": "display_data"
    },
    {
     "name": "stdout",
     "output_type": "stream",
     "text": [
      "\n"
     ]
    },
    {
     "data": {
      "application/vnd.jupyter.widget-view+json": {
       "model_id": "7bb90f7246014c62805c6b3682a3c84d",
       "version_major": 2,
       "version_minor": 0
      },
      "text/plain": [
       "HBox(children=(IntProgress(value=0, max=1000), HTML(value='')))"
      ]
     },
     "metadata": {},
     "output_type": "display_data"
    },
    {
     "name": "stdout",
     "output_type": "stream",
     "text": [
      "\n"
     ]
    }
   ],
   "source": [
    "# Number of columns R:\n",
    "ncol = 4\n",
    "# Number of rows I, J:\n",
    "nrow_a = 10, 30; nrow_b = 10\n",
    "# SNR values:\n",
    "snr = np.arange(0, 35, 5)\n",
    "# Monte Carlo Realizations:\n",
    "mc_realizations = 1000\n",
    "#Generating data for the two cases:\n",
    "# I, J = 10, 10\n",
    "case1 = run_simulation_lskr(snr, mc_realizations, nrow_a[0], nrow_b, ncol)\n",
    "# I, J = 30, 10\n",
    "case2 = run_simulation_lskr(snr, mc_realizations, nrow_a[1], nrow_b, ncol)"
   ]
  },
  {
   "cell_type": "markdown",
   "metadata": {},
   "source": [
    "The NMSE vs. SNR curve is presented in a log-scale plot below.\n",
    "\n",
    "\n",
    "#### For real matrices:\n",
    "\n",
    "As can be seen in the figure below, with the increase in SNR, the estimate is more accurate because the noise power is decreasing. Also, with respect to the case where the size of the matrices are $I, J, R = 30, 10, 4$, the performance of the LSKRF algorithm is slightly better because the normalized square error is normalized by a smaller factor than in the first case $(I = 10)$."
   ]
  },
  {
   "cell_type": "code",
   "execution_count": 79,
   "metadata": {},
   "outputs": [
    {
     "data": {
      "text/html": [
       "\n",
       "\n",
       "\n",
       "\n",
       "\n",
       "\n",
       "  <div class=\"bk-root\" id=\"bcecac74-cd04-486e-a42b-11a5abb180ea\" data-root-id=\"1394\"></div>\n"
      ]
     },
     "metadata": {},
     "output_type": "display_data"
    },
    {
     "data": {
      "application/javascript": [
       "(function(root) {\n",
       "  function embed_document(root) {\n",
       "    \n",
       "  var docs_json = {\"dc23c4af-0834-4bb4-ab07-6b09f492f6a1\":{\"roots\":{\"references\":[{\"attributes\":{\"background_fill_color\":{\"value\":\"#fafafa\"},\"below\":[{\"id\":\"1405\",\"type\":\"LinearAxis\"}],\"center\":[{\"id\":\"1409\",\"type\":\"Grid\"},{\"id\":\"1414\",\"type\":\"Grid\"},{\"id\":\"1437\",\"type\":\"Legend\"}],\"left\":[{\"id\":\"1410\",\"type\":\"LogAxis\"}],\"plot_height\":400,\"renderers\":[{\"id\":\"1429\",\"type\":\"GlyphRenderer\"},{\"id\":\"1442\",\"type\":\"GlyphRenderer\"},{\"id\":\"1455\",\"type\":\"GlyphRenderer\"},{\"id\":\"1471\",\"type\":\"GlyphRenderer\"}],\"title\":{\"id\":\"1395\",\"type\":\"Title\"},\"toolbar\":{\"id\":\"1420\",\"type\":\"Toolbar\"},\"x_range\":{\"id\":\"1397\",\"type\":\"DataRange1d\"},\"x_scale\":{\"id\":\"1401\",\"type\":\"LinearScale\"},\"y_range\":{\"id\":\"1399\",\"type\":\"DataRange1d\"},\"y_scale\":{\"id\":\"1403\",\"type\":\"LogScale\"}},\"id\":\"1394\",\"subtype\":\"Figure\",\"type\":\"Plot\"},{\"attributes\":{\"source\":{\"id\":\"1452\",\"type\":\"ColumnDataSource\"}},\"id\":\"1456\",\"type\":\"CDSView\"},{\"attributes\":{\"callback\":null,\"data\":{\"x\":[0,5,10,15,20,25,30],\"y\":{\"__ndarray__\":\"aYzHeqsSzD8pVr9ghxuwPyl6hZFjqJM/Y45OYpfheD/pUS1KqDJfP/Yv3Emyl0M/04Z9DRIlKT8=\",\"dtype\":\"float64\",\"shape\":[7]}},\"selected\":{\"id\":\"1465\",\"type\":\"Selection\"},\"selection_policy\":{\"id\":\"1464\",\"type\":\"UnionRenderers\"}},\"id\":\"1439\",\"type\":\"ColumnDataSource\"},{\"attributes\":{},\"id\":\"1416\",\"type\":\"PanTool\"},{\"attributes\":{\"label\":{\"value\":\"LSKRF - I, J = 10, 10\"},\"renderers\":[{\"id\":\"1429\",\"type\":\"GlyphRenderer\"},{\"id\":\"1442\",\"type\":\"GlyphRenderer\"}]},\"id\":\"1438\",\"type\":\"LegendItem\"},{\"attributes\":{\"bottom_units\":\"screen\",\"fill_alpha\":{\"value\":0.5},\"fill_color\":{\"value\":\"lightgrey\"},\"left_units\":\"screen\",\"level\":\"overlay\",\"line_alpha\":{\"value\":1.0},\"line_color\":{\"value\":\"black\"},\"line_dash\":[4,4],\"line_width\":{\"value\":2},\"render_mode\":\"css\",\"right_units\":\"screen\",\"top_units\":\"screen\"},\"id\":\"1436\",\"type\":\"BoxAnnotation\"},{\"attributes\":{},\"id\":\"1419\",\"type\":\"ResetTool\"},{\"attributes\":{\"callback\":null},\"id\":\"1397\",\"type\":\"DataRange1d\"},{\"attributes\":{\"num_minor_ticks\":10},\"id\":\"1411\",\"type\":\"LogTicker\"},{\"attributes\":{\"callback\":null},\"id\":\"1399\",\"type\":\"DataRange1d\"},{\"attributes\":{},\"id\":\"1432\",\"type\":\"BasicTickFormatter\"},{\"attributes\":{\"fill_color\":{\"value\":null},\"line_color\":{\"value\":\"red\"},\"size\":{\"units\":\"screen\",\"value\":8},\"x\":{\"field\":\"x\"},\"y\":{\"field\":\"y\"}},\"id\":\"1440\",\"type\":\"Square\"},{\"attributes\":{\"source\":{\"id\":\"1468\",\"type\":\"ColumnDataSource\"}},\"id\":\"1472\",\"type\":\"CDSView\"},{\"attributes\":{\"data_source\":{\"id\":\"1439\",\"type\":\"ColumnDataSource\"},\"glyph\":{\"id\":\"1440\",\"type\":\"Square\"},\"hover_glyph\":null,\"muted_glyph\":null,\"nonselection_glyph\":{\"id\":\"1441\",\"type\":\"Square\"},\"selection_glyph\":null,\"view\":{\"id\":\"1443\",\"type\":\"CDSView\"}},\"id\":\"1442\",\"type\":\"GlyphRenderer\"},{\"attributes\":{\"line_color\":\"green\",\"line_width\":2,\"x\":{\"field\":\"x\"},\"y\":{\"field\":\"y\"}},\"id\":\"1453\",\"type\":\"Line\"},{\"attributes\":{\"dimension\":1,\"ticker\":{\"id\":\"1411\",\"type\":\"LogTicker\"}},\"id\":\"1414\",\"type\":\"Grid\"},{\"attributes\":{},\"id\":\"1417\",\"type\":\"WheelZoomTool\"},{\"attributes\":{},\"id\":\"1465\",\"type\":\"Selection\"},{\"attributes\":{},\"id\":\"1524\",\"type\":\"UnionRenderers\"},{\"attributes\":{\"data_source\":{\"id\":\"1426\",\"type\":\"ColumnDataSource\"},\"glyph\":{\"id\":\"1427\",\"type\":\"Line\"},\"hover_glyph\":null,\"muted_glyph\":null,\"nonselection_glyph\":{\"id\":\"1428\",\"type\":\"Line\"},\"selection_glyph\":null,\"view\":{\"id\":\"1430\",\"type\":\"CDSView\"}},\"id\":\"1429\",\"type\":\"GlyphRenderer\"},{\"attributes\":{\"fill_color\":{\"value\":null},\"line_color\":{\"value\":\"green\"},\"size\":{\"units\":\"screen\",\"value\":8},\"x\":{\"field\":\"x\"},\"y\":{\"field\":\"y\"}},\"id\":\"1469\",\"type\":\"Square\"},{\"attributes\":{},\"id\":\"1406\",\"type\":\"BasicTicker\"},{\"attributes\":{\"line_alpha\":0.1,\"line_color\":\"#1f77b4\",\"line_width\":2,\"x\":{\"field\":\"x\"},\"y\":{\"field\":\"y\"}},\"id\":\"1454\",\"type\":\"Line\"},{\"attributes\":{\"data_source\":{\"id\":\"1468\",\"type\":\"ColumnDataSource\"},\"glyph\":{\"id\":\"1469\",\"type\":\"Square\"},\"hover_glyph\":null,\"muted_glyph\":null,\"nonselection_glyph\":{\"id\":\"1470\",\"type\":\"Square\"},\"selection_glyph\":null,\"view\":{\"id\":\"1472\",\"type\":\"CDSView\"}},\"id\":\"1471\",\"type\":\"GlyphRenderer\"},{\"attributes\":{\"overlay\":{\"id\":\"1436\",\"type\":\"BoxAnnotation\"}},\"id\":\"1418\",\"type\":\"BoxZoomTool\"},{\"attributes\":{\"click_policy\":\"hide\",\"items\":[{\"id\":\"1438\",\"type\":\"LegendItem\"},{\"id\":\"1467\",\"type\":\"LegendItem\"}]},\"id\":\"1437\",\"type\":\"Legend\"},{\"attributes\":{\"fill_alpha\":{\"value\":0.1},\"fill_color\":{\"value\":\"#1f77b4\"},\"line_alpha\":{\"value\":0.1},\"line_color\":{\"value\":\"#1f77b4\"},\"size\":{\"units\":\"screen\",\"value\":8},\"x\":{\"field\":\"x\"},\"y\":{\"field\":\"y\"}},\"id\":\"1441\",\"type\":\"Square\"},{\"attributes\":{},\"id\":\"1482\",\"type\":\"UnionRenderers\"},{\"attributes\":{\"fill_alpha\":{\"value\":0.1},\"fill_color\":{\"value\":\"#1f77b4\"},\"line_alpha\":{\"value\":0.1},\"line_color\":{\"value\":\"#1f77b4\"},\"size\":{\"units\":\"screen\",\"value\":8},\"x\":{\"field\":\"x\"},\"y\":{\"field\":\"y\"}},\"id\":\"1470\",\"type\":\"Square\"},{\"attributes\":{},\"id\":\"1464\",\"type\":\"UnionRenderers\"},{\"attributes\":{\"axis_label\":\"NMSE\",\"formatter\":{\"id\":\"1434\",\"type\":\"LogTickFormatter\"},\"ticker\":{\"id\":\"1411\",\"type\":\"LogTicker\"}},\"id\":\"1410\",\"type\":\"LogAxis\"},{\"attributes\":{},\"id\":\"1403\",\"type\":\"LogScale\"},{\"attributes\":{\"active_drag\":\"auto\",\"active_inspect\":\"auto\",\"active_multi\":null,\"active_scroll\":\"auto\",\"active_tap\":\"auto\",\"tools\":[{\"id\":\"1415\",\"type\":\"HoverTool\"},{\"id\":\"1416\",\"type\":\"PanTool\"},{\"id\":\"1417\",\"type\":\"WheelZoomTool\"},{\"id\":\"1418\",\"type\":\"BoxZoomTool\"},{\"id\":\"1419\",\"type\":\"ResetTool\"}]},\"id\":\"1420\",\"type\":\"Toolbar\"},{\"attributes\":{\"source\":{\"id\":\"1426\",\"type\":\"ColumnDataSource\"}},\"id\":\"1430\",\"type\":\"CDSView\"},{\"attributes\":{\"callback\":null,\"data\":{\"x\":[0,5,10,15,20,25,30],\"y\":{\"__ndarray__\":\"EbA8oAjhwT8aWqTED6OlP4ZyvmPzzoo/6aoS0yLqcD/K4kIoJUNVPz/zKjtOATs/dQizCJvyID8=\",\"dtype\":\"float64\",\"shape\":[7]}},\"selected\":{\"id\":\"1483\",\"type\":\"Selection\"},\"selection_policy\":{\"id\":\"1482\",\"type\":\"UnionRenderers\"}},\"id\":\"1452\",\"type\":\"ColumnDataSource\"},{\"attributes\":{\"line_alpha\":0.1,\"line_color\":\"#1f77b4\",\"line_width\":2,\"x\":{\"field\":\"x\"},\"y\":{\"field\":\"y\"}},\"id\":\"1428\",\"type\":\"Line\"},{\"attributes\":{\"callback\":null,\"data\":{\"x\":[0,5,10,15,20,25,30],\"y\":{\"__ndarray__\":\"EbA8oAjhwT8aWqTED6OlP4ZyvmPzzoo/6aoS0yLqcD/K4kIoJUNVPz/zKjtOATs/dQizCJvyID8=\",\"dtype\":\"float64\",\"shape\":[7]}},\"selected\":{\"id\":\"1525\",\"type\":\"Selection\"},\"selection_policy\":{\"id\":\"1524\",\"type\":\"UnionRenderers\"}},\"id\":\"1468\",\"type\":\"ColumnDataSource\"},{\"attributes\":{},\"id\":\"1401\",\"type\":\"LinearScale\"},{\"attributes\":{\"axis_label\":\"SNR [dB]\",\"formatter\":{\"id\":\"1432\",\"type\":\"BasicTickFormatter\"},\"ticker\":{\"id\":\"1406\",\"type\":\"BasicTicker\"}},\"id\":\"1405\",\"type\":\"LinearAxis\"},{\"attributes\":{\"label\":{\"value\":\"LSKRF - I, J = 30, 10\"},\"renderers\":[{\"id\":\"1455\",\"type\":\"GlyphRenderer\"},{\"id\":\"1471\",\"type\":\"GlyphRenderer\"}]},\"id\":\"1467\",\"type\":\"LegendItem\"},{\"attributes\":{},\"id\":\"1483\",\"type\":\"Selection\"},{\"attributes\":{\"line_color\":\"red\",\"line_width\":2,\"x\":{\"field\":\"x\"},\"y\":{\"field\":\"y\"}},\"id\":\"1427\",\"type\":\"Line\"},{\"attributes\":{\"text\":\"Normalized Error Curve - LSKRF\"},\"id\":\"1395\",\"type\":\"Title\"},{\"attributes\":{\"ticker\":{\"id\":\"1406\",\"type\":\"BasicTicker\"}},\"id\":\"1409\",\"type\":\"Grid\"},{\"attributes\":{\"callback\":null,\"data\":{\"x\":[0,5,10,15,20,25,30],\"y\":{\"__ndarray__\":\"aYzHeqsSzD8pVr9ghxuwPyl6hZFjqJM/Y45OYpfheD/pUS1KqDJfP/Yv3Emyl0M/04Z9DRIlKT8=\",\"dtype\":\"float64\",\"shape\":[7]}},\"selected\":{\"id\":\"1450\",\"type\":\"Selection\"},\"selection_policy\":{\"id\":\"1449\",\"type\":\"UnionRenderers\"}},\"id\":\"1426\",\"type\":\"ColumnDataSource\"},{\"attributes\":{\"ticker\":null},\"id\":\"1434\",\"type\":\"LogTickFormatter\"},{\"attributes\":{\"callback\":null},\"id\":\"1415\",\"type\":\"HoverTool\"},{\"attributes\":{},\"id\":\"1450\",\"type\":\"Selection\"},{\"attributes\":{\"source\":{\"id\":\"1439\",\"type\":\"ColumnDataSource\"}},\"id\":\"1443\",\"type\":\"CDSView\"},{\"attributes\":{\"data_source\":{\"id\":\"1452\",\"type\":\"ColumnDataSource\"},\"glyph\":{\"id\":\"1453\",\"type\":\"Line\"},\"hover_glyph\":null,\"muted_glyph\":null,\"nonselection_glyph\":{\"id\":\"1454\",\"type\":\"Line\"},\"selection_glyph\":null,\"view\":{\"id\":\"1456\",\"type\":\"CDSView\"}},\"id\":\"1455\",\"type\":\"GlyphRenderer\"},{\"attributes\":{},\"id\":\"1449\",\"type\":\"UnionRenderers\"},{\"attributes\":{},\"id\":\"1525\",\"type\":\"Selection\"}],\"root_ids\":[\"1394\"]},\"title\":\"Bokeh Application\",\"version\":\"1.3.4\"}};\n",
       "  var render_items = [{\"docid\":\"dc23c4af-0834-4bb4-ab07-6b09f492f6a1\",\"roots\":{\"1394\":\"bcecac74-cd04-486e-a42b-11a5abb180ea\"}}];\n",
       "  root.Bokeh.embed.embed_items_notebook(docs_json, render_items);\n",
       "\n",
       "  }\n",
       "  if (root.Bokeh !== undefined) {\n",
       "    embed_document(root);\n",
       "  } else {\n",
       "    var attempts = 0;\n",
       "    var timer = setInterval(function(root) {\n",
       "      if (root.Bokeh !== undefined) {\n",
       "        embed_document(root);\n",
       "        clearInterval(timer);\n",
       "      }\n",
       "      attempts++;\n",
       "      if (attempts > 100) {\n",
       "        console.log(\"Bokeh: ERROR: Unable to run BokehJS code because BokehJS library is missing\");\n",
       "        clearInterval(timer);\n",
       "      }\n",
       "    }, 10, root)\n",
       "  }\n",
       "})(window);"
      ],
      "application/vnd.bokehjs_exec.v0+json": ""
     },
     "metadata": {
      "application/vnd.bokehjs_exec.v0+json": {
       "id": "1394"
      }
     },
     "output_type": "display_data"
    }
   ],
   "source": [
    "plot_results(snr, case1, case2, 'I, J = 10, 10', 'I, J = 30, 10', 'LSKRF')"
   ]
  },
  {
   "cell_type": "markdown",
   "metadata": {},
   "source": [
    "#### For complex matrices:\n",
    "\n",
    "An extra plot for discussion. Here, the reconstructed matrix $\\hat{\\mathbf{X}}_{0}(i)$ is obtained by applying the LSKRF algorithm on the real and the imaginary parts separately."
   ]
  },
  {
   "cell_type": "code",
   "execution_count": 5,
   "metadata": {},
   "outputs": [
    {
     "data": {
      "text/html": [
       "\n",
       "\n",
       "\n",
       "\n",
       "\n",
       "\n",
       "  <div class=\"bk-root\" id=\"971e95a8-4e09-43db-973b-5aab80b7fe45\" data-root-id=\"1002\"></div>\n"
      ]
     },
     "metadata": {},
     "output_type": "display_data"
    },
    {
     "data": {
      "application/javascript": [
       "(function(root) {\n",
       "  function embed_document(root) {\n",
       "    \n",
       "  var docs_json = {\"c0750f87-47de-46d6-9b6a-544cd00c718a\":{\"roots\":{\"references\":[{\"attributes\":{\"background_fill_color\":{\"value\":\"#fafafa\"},\"below\":[{\"id\":\"1013\",\"type\":\"LinearAxis\"}],\"center\":[{\"id\":\"1017\",\"type\":\"Grid\"},{\"id\":\"1022\",\"type\":\"Grid\"},{\"id\":\"1045\",\"type\":\"Legend\"}],\"left\":[{\"id\":\"1018\",\"type\":\"LogAxis\"}],\"plot_height\":400,\"renderers\":[{\"id\":\"1037\",\"type\":\"GlyphRenderer\"},{\"id\":\"1050\",\"type\":\"GlyphRenderer\"},{\"id\":\"1063\",\"type\":\"GlyphRenderer\"},{\"id\":\"1079\",\"type\":\"GlyphRenderer\"}],\"title\":{\"id\":\"1003\",\"type\":\"Title\"},\"toolbar\":{\"id\":\"1028\",\"type\":\"Toolbar\"},\"x_range\":{\"id\":\"1005\",\"type\":\"DataRange1d\"},\"x_scale\":{\"id\":\"1009\",\"type\":\"LinearScale\"},\"y_range\":{\"id\":\"1007\",\"type\":\"DataRange1d\"},\"y_scale\":{\"id\":\"1011\",\"type\":\"LogScale\"}},\"id\":\"1002\",\"subtype\":\"Figure\",\"type\":\"Plot\"},{\"attributes\":{\"click_policy\":\"hide\",\"items\":[{\"id\":\"1046\",\"type\":\"LegendItem\"},{\"id\":\"1075\",\"type\":\"LegendItem\"}]},\"id\":\"1045\",\"type\":\"Legend\"},{\"attributes\":{\"callback\":null},\"id\":\"1023\",\"type\":\"HoverTool\"},{\"attributes\":{},\"id\":\"1073\",\"type\":\"Selection\"},{\"attributes\":{},\"id\":\"1024\",\"type\":\"PanTool\"},{\"attributes\":{\"data_source\":{\"id\":\"1034\",\"type\":\"ColumnDataSource\"},\"glyph\":{\"id\":\"1035\",\"type\":\"Line\"},\"hover_glyph\":null,\"muted_glyph\":null,\"nonselection_glyph\":{\"id\":\"1036\",\"type\":\"Line\"},\"selection_glyph\":null,\"view\":{\"id\":\"1038\",\"type\":\"CDSView\"}},\"id\":\"1037\",\"type\":\"GlyphRenderer\"},{\"attributes\":{\"label\":{\"value\":\"LSKRF - I, J = 10, 10\"},\"renderers\":[{\"id\":\"1037\",\"type\":\"GlyphRenderer\"},{\"id\":\"1050\",\"type\":\"GlyphRenderer\"}]},\"id\":\"1046\",\"type\":\"LegendItem\"},{\"attributes\":{\"text\":\"Normalized Error Curve - LSKRF\"},\"id\":\"1003\",\"type\":\"Title\"},{\"attributes\":{\"callback\":null,\"data\":{\"x\":[0,5,10,15,20,25,30],\"y\":{\"__ndarray__\":\"e9Voe5eS6T+TcmYQCCvmP518q77AJOU/04a1cbvV5D+K/g2ombzkP+35ccc1teQ/UCsbdfOy5D8=\",\"dtype\":\"float64\",\"shape\":[7]}},\"selected\":{\"id\":\"1105\",\"type\":\"Selection\"},\"selection_policy\":{\"id\":\"1104\",\"type\":\"UnionRenderers\"}},\"id\":\"1076\",\"type\":\"ColumnDataSource\"},{\"attributes\":{},\"id\":\"1025\",\"type\":\"WheelZoomTool\"},{\"attributes\":{\"callback\":null,\"data\":{\"x\":[0,5,10,15,20,25,30],\"y\":{\"__ndarray__\":\"e9Voe5eS6T+TcmYQCCvmP518q77AJOU/04a1cbvV5D+K/g2ombzkP+35ccc1teQ/UCsbdfOy5D8=\",\"dtype\":\"float64\",\"shape\":[7]}},\"selected\":{\"id\":\"1091\",\"type\":\"Selection\"},\"selection_policy\":{\"id\":\"1090\",\"type\":\"UnionRenderers\"}},\"id\":\"1060\",\"type\":\"ColumnDataSource\"},{\"attributes\":{\"line_alpha\":0.1,\"line_color\":\"#1f77b4\",\"line_width\":2,\"x\":{\"field\":\"x\"},\"y\":{\"field\":\"y\"}},\"id\":\"1036\",\"type\":\"Line\"},{\"attributes\":{\"line_color\":\"green\",\"line_width\":2,\"x\":{\"field\":\"x\"},\"y\":{\"field\":\"y\"}},\"id\":\"1061\",\"type\":\"Line\"},{\"attributes\":{\"overlay\":{\"id\":\"1044\",\"type\":\"BoxAnnotation\"}},\"id\":\"1026\",\"type\":\"BoxZoomTool\"},{\"attributes\":{},\"id\":\"1090\",\"type\":\"UnionRenderers\"},{\"attributes\":{},\"id\":\"1009\",\"type\":\"LinearScale\"},{\"attributes\":{\"fill_alpha\":{\"value\":0.1},\"fill_color\":{\"value\":\"#1f77b4\"},\"line_alpha\":{\"value\":0.1},\"line_color\":{\"value\":\"#1f77b4\"},\"size\":{\"units\":\"screen\",\"value\":8},\"x\":{\"field\":\"x\"},\"y\":{\"field\":\"y\"}},\"id\":\"1078\",\"type\":\"Square\"},{\"attributes\":{},\"id\":\"1027\",\"type\":\"ResetTool\"},{\"attributes\":{\"line_alpha\":0.1,\"line_color\":\"#1f77b4\",\"line_width\":2,\"x\":{\"field\":\"x\"},\"y\":{\"field\":\"y\"}},\"id\":\"1062\",\"type\":\"Line\"},{\"attributes\":{\"source\":{\"id\":\"1047\",\"type\":\"ColumnDataSource\"}},\"id\":\"1051\",\"type\":\"CDSView\"},{\"attributes\":{\"callback\":null},\"id\":\"1005\",\"type\":\"DataRange1d\"},{\"attributes\":{\"data_source\":{\"id\":\"1076\",\"type\":\"ColumnDataSource\"},\"glyph\":{\"id\":\"1077\",\"type\":\"Square\"},\"hover_glyph\":null,\"muted_glyph\":null,\"nonselection_glyph\":{\"id\":\"1078\",\"type\":\"Square\"},\"selection_glyph\":null,\"view\":{\"id\":\"1080\",\"type\":\"CDSView\"}},\"id\":\"1079\",\"type\":\"GlyphRenderer\"},{\"attributes\":{\"source\":{\"id\":\"1034\",\"type\":\"ColumnDataSource\"}},\"id\":\"1038\",\"type\":\"CDSView\"},{\"attributes\":{},\"id\":\"1058\",\"type\":\"Selection\"},{\"attributes\":{\"ticker\":{\"id\":\"1014\",\"type\":\"BasicTicker\"}},\"id\":\"1017\",\"type\":\"Grid\"},{\"attributes\":{\"dimension\":1,\"ticker\":{\"id\":\"1019\",\"type\":\"LogTicker\"}},\"id\":\"1022\",\"type\":\"Grid\"},{\"attributes\":{\"callback\":null,\"data\":{\"x\":[0,5,10,15,20,25,30],\"y\":{\"__ndarray__\":\"oPre+hNE7j/CZx0zZgTpP6SoZ68rkec/No1Ihf0X5z9WGOXqgvLmP82NhCwM5+Y/tUPbk3zj5j8=\",\"dtype\":\"float64\",\"shape\":[7]}},\"selected\":{\"id\":\"1058\",\"type\":\"Selection\"},\"selection_policy\":{\"id\":\"1057\",\"type\":\"UnionRenderers\"}},\"id\":\"1034\",\"type\":\"ColumnDataSource\"},{\"attributes\":{\"source\":{\"id\":\"1076\",\"type\":\"ColumnDataSource\"}},\"id\":\"1080\",\"type\":\"CDSView\"},{\"attributes\":{},\"id\":\"1057\",\"type\":\"UnionRenderers\"},{\"attributes\":{},\"id\":\"1014\",\"type\":\"BasicTicker\"},{\"attributes\":{},\"id\":\"1072\",\"type\":\"UnionRenderers\"},{\"attributes\":{\"axis_label\":\"SNR [dB]\",\"formatter\":{\"id\":\"1040\",\"type\":\"BasicTickFormatter\"},\"ticker\":{\"id\":\"1014\",\"type\":\"BasicTicker\"}},\"id\":\"1013\",\"type\":\"LinearAxis\"},{\"attributes\":{\"callback\":null},\"id\":\"1007\",\"type\":\"DataRange1d\"},{\"attributes\":{},\"id\":\"1091\",\"type\":\"Selection\"},{\"attributes\":{\"fill_color\":{\"value\":null},\"line_color\":{\"value\":\"green\"},\"size\":{\"units\":\"screen\",\"value\":8},\"x\":{\"field\":\"x\"},\"y\":{\"field\":\"y\"}},\"id\":\"1077\",\"type\":\"Square\"},{\"attributes\":{},\"id\":\"1105\",\"type\":\"Selection\"},{\"attributes\":{\"line_color\":\"red\",\"line_width\":2,\"x\":{\"field\":\"x\"},\"y\":{\"field\":\"y\"}},\"id\":\"1035\",\"type\":\"Line\"},{\"attributes\":{\"num_minor_ticks\":10},\"id\":\"1019\",\"type\":\"LogTicker\"},{\"attributes\":{},\"id\":\"1040\",\"type\":\"BasicTickFormatter\"},{\"attributes\":{},\"id\":\"1104\",\"type\":\"UnionRenderers\"},{\"attributes\":{\"data_source\":{\"id\":\"1060\",\"type\":\"ColumnDataSource\"},\"glyph\":{\"id\":\"1061\",\"type\":\"Line\"},\"hover_glyph\":null,\"muted_glyph\":null,\"nonselection_glyph\":{\"id\":\"1062\",\"type\":\"Line\"},\"selection_glyph\":null,\"view\":{\"id\":\"1064\",\"type\":\"CDSView\"}},\"id\":\"1063\",\"type\":\"GlyphRenderer\"},{\"attributes\":{\"data_source\":{\"id\":\"1047\",\"type\":\"ColumnDataSource\"},\"glyph\":{\"id\":\"1048\",\"type\":\"Square\"},\"hover_glyph\":null,\"muted_glyph\":null,\"nonselection_glyph\":{\"id\":\"1049\",\"type\":\"Square\"},\"selection_glyph\":null,\"view\":{\"id\":\"1051\",\"type\":\"CDSView\"}},\"id\":\"1050\",\"type\":\"GlyphRenderer\"},{\"attributes\":{\"axis_label\":\"NMSE\",\"formatter\":{\"id\":\"1042\",\"type\":\"LogTickFormatter\"},\"ticker\":{\"id\":\"1019\",\"type\":\"LogTicker\"}},\"id\":\"1018\",\"type\":\"LogAxis\"},{\"attributes\":{\"ticker\":null},\"id\":\"1042\",\"type\":\"LogTickFormatter\"},{\"attributes\":{\"fill_color\":{\"value\":null},\"line_color\":{\"value\":\"red\"},\"size\":{\"units\":\"screen\",\"value\":8},\"x\":{\"field\":\"x\"},\"y\":{\"field\":\"y\"}},\"id\":\"1048\",\"type\":\"Square\"},{\"attributes\":{},\"id\":\"1011\",\"type\":\"LogScale\"},{\"attributes\":{\"source\":{\"id\":\"1060\",\"type\":\"ColumnDataSource\"}},\"id\":\"1064\",\"type\":\"CDSView\"},{\"attributes\":{\"active_drag\":\"auto\",\"active_inspect\":\"auto\",\"active_multi\":null,\"active_scroll\":\"auto\",\"active_tap\":\"auto\",\"tools\":[{\"id\":\"1023\",\"type\":\"HoverTool\"},{\"id\":\"1024\",\"type\":\"PanTool\"},{\"id\":\"1025\",\"type\":\"WheelZoomTool\"},{\"id\":\"1026\",\"type\":\"BoxZoomTool\"},{\"id\":\"1027\",\"type\":\"ResetTool\"}]},\"id\":\"1028\",\"type\":\"Toolbar\"},{\"attributes\":{\"label\":{\"value\":\"LSKRF - I, J = 30, 10\"},\"renderers\":[{\"id\":\"1063\",\"type\":\"GlyphRenderer\"},{\"id\":\"1079\",\"type\":\"GlyphRenderer\"}]},\"id\":\"1075\",\"type\":\"LegendItem\"},{\"attributes\":{\"bottom_units\":\"screen\",\"fill_alpha\":{\"value\":0.5},\"fill_color\":{\"value\":\"lightgrey\"},\"left_units\":\"screen\",\"level\":\"overlay\",\"line_alpha\":{\"value\":1.0},\"line_color\":{\"value\":\"black\"},\"line_dash\":[4,4],\"line_width\":{\"value\":2},\"render_mode\":\"css\",\"right_units\":\"screen\",\"top_units\":\"screen\"},\"id\":\"1044\",\"type\":\"BoxAnnotation\"},{\"attributes\":{\"callback\":null,\"data\":{\"x\":[0,5,10,15,20,25,30],\"y\":{\"__ndarray__\":\"oPre+hNE7j/CZx0zZgTpP6SoZ68rkec/No1Ihf0X5z9WGOXqgvLmP82NhCwM5+Y/tUPbk3zj5j8=\",\"dtype\":\"float64\",\"shape\":[7]}},\"selected\":{\"id\":\"1073\",\"type\":\"Selection\"},\"selection_policy\":{\"id\":\"1072\",\"type\":\"UnionRenderers\"}},\"id\":\"1047\",\"type\":\"ColumnDataSource\"},{\"attributes\":{\"fill_alpha\":{\"value\":0.1},\"fill_color\":{\"value\":\"#1f77b4\"},\"line_alpha\":{\"value\":0.1},\"line_color\":{\"value\":\"#1f77b4\"},\"size\":{\"units\":\"screen\",\"value\":8},\"x\":{\"field\":\"x\"},\"y\":{\"field\":\"y\"}},\"id\":\"1049\",\"type\":\"Square\"}],\"root_ids\":[\"1002\"]},\"title\":\"Bokeh Application\",\"version\":\"1.3.4\"}};\n",
       "  var render_items = [{\"docid\":\"c0750f87-47de-46d6-9b6a-544cd00c718a\",\"roots\":{\"1002\":\"971e95a8-4e09-43db-973b-5aab80b7fe45\"}}];\n",
       "  root.Bokeh.embed.embed_items_notebook(docs_json, render_items);\n",
       "\n",
       "  }\n",
       "  if (root.Bokeh !== undefined) {\n",
       "    embed_document(root);\n",
       "  } else {\n",
       "    var attempts = 0;\n",
       "    var timer = setInterval(function(root) {\n",
       "      if (root.Bokeh !== undefined) {\n",
       "        embed_document(root);\n",
       "        clearInterval(timer);\n",
       "      }\n",
       "      attempts++;\n",
       "      if (attempts > 100) {\n",
       "        console.log(\"Bokeh: ERROR: Unable to run BokehJS code because BokehJS library is missing\");\n",
       "        clearInterval(timer);\n",
       "      }\n",
       "    }, 10, root)\n",
       "  }\n",
       "})(window);"
      ],
      "application/vnd.bokehjs_exec.v0+json": ""
     },
     "metadata": {
      "application/vnd.bokehjs_exec.v0+json": {
       "id": "1002"
      }
     },
     "output_type": "display_data"
    }
   ],
   "source": [
    "plot_results(snr, case1, case2, 'I, J = 10, 10', 'I, J = 30, 10', 'LSKRF')"
   ]
  }
 ],
 "metadata": {
  "file_extension": ".py",
  "kernelspec": {
   "display_name": "Python 3",
   "language": "python",
   "name": "python3"
  },
  "language_info": {
   "codemirror_mode": {
    "name": "ipython",
    "version": 3
   },
   "file_extension": ".py",
   "mimetype": "text/x-python",
   "name": "python",
   "nbconvert_exporter": "python",
   "pygments_lexer": "ipython3",
   "version": "3.7.4"
  },
  "mimetype": "text/x-python",
  "name": "python",
  "npconvert_exporter": "python",
  "pygments_lexer": "ipython3",
  "version": 3
 },
 "nbformat": 4,
 "nbformat_minor": 4
}
