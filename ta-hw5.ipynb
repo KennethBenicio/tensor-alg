{
 "cells": [
  {
   "cell_type": "markdown",
   "metadata": {},
   "source": [
    "# Federal University of Ceará\n",
    "# Teleinformatics Departament\n",
    "# Graduate Program in Teleinformatics Engeneering\n",
    "## TIP8419 - Tensor Algebra\n",
    "## Homework 5 - Unfolding, folding, and $n$-mode product\n",
    "### Report and Simulation results\n",
    "\n",
    "- Ezequias Márcio - 497779\n",
    "\n",
    "To run this notebook properly, it is necessary Python3 installed alongside alongside with the packages listed below:\n",
    "\n",
    "- `numpy 1.17.2`\n",
    "\n",
    "Make sure that the files `tensoralg.py` and `ta_simulations.py` are in the same directory as this notebook. In this files, it can be found the tensor algebra module functions and the code listings of the simulations."
   ]
  },
  {
   "cell_type": "code",
   "execution_count": 1,
   "metadata": {},
   "outputs": [],
   "source": [
    "# Importing the simulation module:\n",
    "import numpy as np\n",
    "import tensoralg\n",
    "np.set_printoptions(3, linewidth=175)\n",
    "\n",
    "# Loading files:\n",
    "kolda_tensor = np.load('files/kolda-ex/kolda_tensor.npy')\n",
    "kolda_m1 = np.load('files/kolda-ex/kolda_tensor_m1.npy')\n",
    "kolda_m2 = np.load('files/kolda-ex/kolda_tensor_m2.npy')\n",
    "kolda_m3 = np.load('files/kolda-ex/kolda_tensor_m3.npy')\n",
    "\n",
    "# unfolding_folding.mat:\n",
    "tenX = np.load('files/unfolding-folding/tenX.npy')\n",
    "X1 = np.load('files/unfolding-folding/X1.npy')\n",
    "X2 = np.load('files/unfolding-folding/X2.npy')\n",
    "X3 = np.load('files/unfolding-folding/X3.npy')\n",
    "\n",
    "# multilinear_product.mat:\n",
    "A = np.load('files/multilinear-product/A.npy')\n",
    "B = np.load('files/multilinear-product/B.npy')\n",
    "C = np.load('files/multilinear-product/C.npy')\n",
    "mtenX = np.load('files/multilinear-product/mtenX.npy')\n",
    "tenY = np.load('files/multilinear-product/tenY.npy')"
   ]
  },
  {
   "cell_type": "markdown",
   "metadata": {},
   "source": [
    "### Problem 1 - Unfolding\n",
    "\n",
    "For a third-order tensor $\\mathbf{\\mathcal{X}} \\in \\mathbb{C}^{I \\times J \\times K}$ , using the concept of n-mode fibers, implement the function unfold according to the following prototype:\n",
    "\n",
    "\\begin{equation}\n",
    " [\\mathbf{\\mathcal{X}}]_{(n)} = \\text{unfold}(\\mathbf{\\mathcal{X}},n) \n",
    "\\end{equation}\n",
    "\n",
    "Hint: Use the file “unfolding_folding.mat” to validate your function.\n",
    "\n",
    "### Solution: \n",
    "\n",
    "The functioning of the implemented routine is shown below. First, using the Kolda's 3rd-order tensor example:"
   ]
  },
  {
   "cell_type": "code",
   "execution_count": 2,
   "metadata": {},
   "outputs": [
    {
     "name": "stdout",
     "output_type": "stream",
     "text": [
      "[[[ 1. +1.j  4. +4.j  7. +7.j 10.+10.j]\n",
      "  [ 2. +2.j  5. +5.j  8. +8.j 11.+11.j]\n",
      "  [ 3. +3.j  6. +6.j  9. +9.j 12.+12.j]]\n",
      "\n",
      " [[13.+13.j 16.+16.j 19.+19.j 22.+22.j]\n",
      "  [14.+14.j 17.+17.j 20.+20.j 23.+23.j]\n",
      "  [15.+15.j 18.+18.j 21.+21.j 24.+24.j]]] Tensor shape:  (2, 3, 4)\n"
     ]
    }
   ],
   "source": [
    "kolda_tensor = np.complex_(kolda_tensor) + 1j*kolda_tensor; print(kolda_tensor, 'Tensor shape: ', kolda_tensor.shape)"
   ]
  },
  {
   "cell_type": "markdown",
   "metadata": {},
   "source": [
    "We have for the $1$-mode unfolding the matrix:"
   ]
  },
  {
   "cell_type": "code",
   "execution_count": 3,
   "metadata": {},
   "outputs": [
    {
     "name": "stdout",
     "output_type": "stream",
     "text": [
      "[[ 1. +1.j  4. +4.j  7. +7.j 10.+10.j 13.+13.j 16.+16.j 19.+19.j 22.+22.j]\n",
      " [ 2. +2.j  5. +5.j  8. +8.j 11.+11.j 14.+14.j 17.+17.j 20.+20.j 23.+23.j]\n",
      " [ 3. +3.j  6. +6.j  9. +9.j 12.+12.j 15.+15.j 18.+18.j 21.+21.j 24.+24.j]]\n"
     ]
    }
   ],
   "source": [
    "print(tensoralg.unfold(kolda_tensor, 1))"
   ]
  },
  {
   "cell_type": "markdown",
   "metadata": {},
   "source": [
    "For the $2$-mode unfolding we have the matrix:"
   ]
  },
  {
   "cell_type": "code",
   "execution_count": 4,
   "metadata": {},
   "outputs": [
    {
     "name": "stdout",
     "output_type": "stream",
     "text": [
      "[[ 1. +1.j  2. +2.j  3. +3.j 13.+13.j 14.+14.j 15.+15.j]\n",
      " [ 4. +4.j  5. +5.j  6. +6.j 16.+16.j 17.+17.j 18.+18.j]\n",
      " [ 7. +7.j  8. +8.j  9. +9.j 19.+19.j 20.+20.j 21.+21.j]\n",
      " [10.+10.j 11.+11.j 12.+12.j 22.+22.j 23.+23.j 24.+24.j]]\n"
     ]
    }
   ],
   "source": [
    "print(tensoralg.unfold(kolda_tensor, 2))"
   ]
  },
  {
   "cell_type": "markdown",
   "metadata": {},
   "source": [
    "And, for the $3$-mode unfolding:"
   ]
  },
  {
   "cell_type": "code",
   "execution_count": 5,
   "metadata": {},
   "outputs": [
    {
     "name": "stdout",
     "output_type": "stream",
     "text": [
      "[[ 1. +1.j  2. +2.j  3. +3.j  4. +4.j  5. +5.j  6. +6.j  7. +7.j  8. +8.j  9. +9.j 10.+10.j 11.+11.j 12.+12.j]\n",
      " [13.+13.j 14.+14.j 15.+15.j 16.+16.j 17.+17.j 18.+18.j 19.+19.j 20.+20.j 21.+21.j 22.+22.j 23.+23.j 24.+24.j]]\n"
     ]
    }
   ],
   "source": [
    "print(tensoralg.unfold(kolda_tensor, 3))"
   ]
  },
  {
   "cell_type": "markdown",
   "metadata": {},
   "source": [
    "- Validating the implemented routine using the provided data in the file `unfolding_folding.mat`\n",
    "\n",
    "For the $1$-mode unfolding:"
   ]
  },
  {
   "cell_type": "code",
   "execution_count": 6,
   "metadata": {},
   "outputs": [
    {
     "name": "stdout",
     "output_type": "stream",
     "text": [
      "Tensor X:\n",
      "\n",
      "[[[ -1.816   3.84    2.261   0.987]\n",
      "  [ -1.178   1.82    5.018   3.602]\n",
      "  [  3.202  -6.178  -7.122  -4.354]]\n",
      "\n",
      " [[ -0.734   1.719   0.026  -0.342]\n",
      "  [ -0.126   0.521  -1.19   -1.054]\n",
      "  [  0.985  -2.506   1.02    1.338]]\n",
      "\n",
      " [[  1.434  -3.182  -0.994  -0.119]\n",
      "  [  0.618  -1.246  -1.094  -0.606]\n",
      "  [ -2.253   4.888   2.149   0.677]]\n",
      "\n",
      " [[ -1.182   2.151   3.315   2.179]\n",
      "  [ -1.493   1.63    9.942   7.551]\n",
      "  [  2.725  -3.999 -12.722  -9.26 ]]\n",
      "\n",
      " [[ -2.226   4.525   3.731   2.01 ]\n",
      "  [ -1.822   2.462   9.624   7.123]\n",
      "  [  4.258  -7.561 -12.936  -8.68 ]]]\n",
      "\n",
      "Implemented unfold:\n",
      "\n",
      "[[ -1.816   3.84    2.261   0.987  -0.734   1.719   0.026  -0.342   1.434  -3.182  -0.994  -0.119  -1.182   2.151   3.315   2.179  -2.226   4.525   3.731   2.01 ]\n",
      " [ -1.178   1.82    5.018   3.602  -0.126   0.521  -1.19   -1.054   0.618  -1.246  -1.094  -0.606  -1.493   1.63    9.942   7.551  -1.822   2.462   9.624   7.123]\n",
      " [  3.202  -6.178  -7.122  -4.354   0.985  -2.506   1.02    1.338  -2.253   4.888   2.149   0.677   2.725  -3.999 -12.722  -9.26    4.258  -7.561 -12.936  -8.68 ]]\n",
      "\n",
      "Real Value:\n",
      "\n",
      "[[ -1.816   3.84    2.262   0.987  -0.734   1.719   0.026  -0.342   1.434  -3.182  -0.994  -0.119  -1.182   2.151   3.315   2.179  -2.226   4.525   3.731   2.009]\n",
      " [ -1.178   1.82    5.018   3.602  -0.126   0.521  -1.19   -1.054   0.618  -1.246  -1.094  -0.606  -1.493   1.63    9.942   7.552  -1.822   2.462   9.624   7.123]\n",
      " [  3.202  -6.178  -7.122  -4.354   0.985  -2.506   1.02    1.338  -2.253   4.888   2.149   0.677   2.725  -3.999 -12.722  -9.26    4.258  -7.56  -12.936  -8.68 ]]\n"
     ]
    }
   ],
   "source": [
    "print(f'Tensor X:\\n\\n{tenX}')\n",
    "print(f'''\\nImplemented unfold:\\n\\n{tensoralg.unfold(tenX, 1)}\\n\n",
    "Real Value:\\n\n",
    "{X1}''')"
   ]
  },
  {
   "cell_type": "markdown",
   "metadata": {},
   "source": [
    "For the $2$-mode unfolding:"
   ]
  },
  {
   "cell_type": "code",
   "execution_count": 7,
   "metadata": {},
   "outputs": [
    {
     "name": "stdout",
     "output_type": "stream",
     "text": [
      "[[ -1.816  -1.178   3.202  -0.734  -0.126   0.985   1.434   0.618  -2.253  -1.182  -1.493   2.725  -2.226  -1.822   4.258]\n",
      " [  3.84    1.82   -6.178   1.719   0.521  -2.506  -3.182  -1.246   4.888   2.151   1.63   -3.999   4.525   2.462  -7.561]\n",
      " [  2.261   5.018  -7.122   0.026  -1.19    1.02   -0.994  -1.094   2.149   3.315   9.942 -12.722   3.731   9.624 -12.936]\n",
      " [  0.987   3.602  -4.354  -0.342  -1.054   1.338  -0.119  -0.606   0.677   2.179   7.551  -9.26    2.01    7.123  -8.68 ]]\n",
      "\n",
      "Real Value:\n",
      "\n",
      "[[ -1.816  -1.178   3.202  -0.734  -0.126   0.985   1.434   0.618  -2.253  -1.182  -1.493   2.725  -2.226  -1.822   4.258]\n",
      " [  3.84    1.82   -6.178   1.719   0.521  -2.506  -3.182  -1.246   4.888   2.151   1.63   -3.999   4.525   2.462  -7.56 ]\n",
      " [  2.262   5.018  -7.122   0.026  -1.19    1.02   -0.994  -1.094   2.149   3.315   9.942 -12.722   3.731   9.624 -12.936]\n",
      " [  0.987   3.602  -4.354  -0.342  -1.054   1.338  -0.119  -0.606   0.677   2.179   7.552  -9.26    2.009   7.123  -8.68 ]]\n"
     ]
    }
   ],
   "source": [
    "print(f'''{tensoralg.unfold(tenX, 2)}\\n\n",
    "Real Value:\\n\n",
    "{X2}''')"
   ]
  },
  {
   "cell_type": "markdown",
   "metadata": {},
   "source": [
    "For the $3$-mode unfolding:"
   ]
  },
  {
   "cell_type": "code",
   "execution_count": 8,
   "metadata": {},
   "outputs": [
    {
     "name": "stdout",
     "output_type": "stream",
     "text": [
      "[[ -1.816  -1.178   3.202   3.84    1.82   -6.178   2.261   5.018  -7.122   0.987   3.602  -4.354]\n",
      " [ -0.734  -0.126   0.985   1.719   0.521  -2.506   0.026  -1.19    1.02   -0.342  -1.054   1.338]\n",
      " [  1.434   0.618  -2.253  -3.182  -1.246   4.888  -0.994  -1.094   2.149  -0.119  -0.606   0.677]\n",
      " [ -1.182  -1.493   2.725   2.151   1.63   -3.999   3.315   9.942 -12.722   2.179   7.551  -9.26 ]\n",
      " [ -2.226  -1.822   4.258   4.525   2.462  -7.561   3.731   9.624 -12.936   2.01    7.123  -8.68 ]]\n",
      "\n",
      "Real Value:\n",
      "\n",
      "[[ -1.816  -1.178   3.202   3.84    1.82   -6.178   2.262   5.018  -7.122   0.987   3.602  -4.354]\n",
      " [ -0.734  -0.126   0.985   1.719   0.521  -2.506   0.026  -1.19    1.02   -0.342  -1.054   1.338]\n",
      " [  1.434   0.618  -2.253  -3.182  -1.246   4.888  -0.994  -1.094   2.149  -0.119  -0.606   0.677]\n",
      " [ -1.182  -1.493   2.725   2.151   1.63   -3.999   3.315   9.942 -12.722   2.179   7.552  -9.26 ]\n",
      " [ -2.226  -1.822   4.258   4.525   2.462  -7.56    3.731   9.624 -12.936   2.009   7.123  -8.68 ]]\n"
     ]
    }
   ],
   "source": [
    "print(f'''{tensoralg.unfold(tenX, 3)}\\n\n",
    "Real Value:\\n\n",
    "{X3}''')"
   ]
  },
  {
   "cell_type": "markdown",
   "metadata": {},
   "source": [
    "As can be seen above, the impelemted roitine works well for 3rd-Order tensors, taking each $n$-mode fibers in the standard form (Kolda notation).\n",
    "\n",
    "### Problem 2 - Folding\n",
    "\n",
    "Implement the function fold that converts the unfolding $[\\mathbf{\\mathcal{X}}]_{(n)}$ obtained with $\\text{unfold} (\\mathbf{\\mathcal{X}}, n)$ back to the tensor $\\mathbf{\\mathcal{X}} \\in \\mathbb{C}^{I \\times J \\times K}$ (i.e., a 3-d array in Matlab/Octave), according to the following prototype:\n",
    "\n",
    "\\begin{equation}\n",
    " \\mathbf{\\mathcal{X}} = fold([\\mathbf{\\mathcal{X}}]_{(n)},[I,J,K],n) \n",
    "\\end{equation}\n",
    "\n",
    "### Solution: \n",
    "\n",
    "Again, functioning of the implemented routine is shown below. Using the Kolda's unfoldings example we have:\n",
    "\n",
    "For $1$-mode matrix:"
   ]
  },
  {
   "cell_type": "code",
   "execution_count": 9,
   "metadata": {},
   "outputs": [
    {
     "name": "stdout",
     "output_type": "stream",
     "text": [
      "[[ 1. +1.j  4. +4.j  7. +7.j 10.+10.j 13.+13.j 16.+16.j 19.+19.j 22.+22.j]\n",
      " [ 2. +2.j  5. +5.j  8. +8.j 11.+11.j 14.+14.j 17.+17.j 20.+20.j 23.+23.j]\n",
      " [ 3. +3.j  6. +6.j  9. +9.j 12.+12.j 15.+15.j 18.+18.j 21.+21.j 24.+24.j]]\n",
      "\n",
      "Fold mode 1:\n",
      "[[[ 1. +1.j  4. +4.j  7. +7.j 10.+10.j]\n",
      "  [ 2. +2.j  5. +5.j  8. +8.j 11.+11.j]\n",
      "  [ 3. +3.j  6. +6.j  9. +9.j 12.+12.j]]\n",
      "\n",
      " [[13.+13.j 16.+16.j 19.+19.j 22.+22.j]\n",
      "  [14.+14.j 17.+17.j 20.+20.j 23.+23.j]\n",
      "  [15.+15.j 18.+18.j 21.+21.j 24.+24.j]]]\n"
     ]
    }
   ],
   "source": [
    "kolda_m1 = np.complex_(kolda_m1) + 1j*kolda_m1; print(kolda_m1)\n",
    "print(f'\\nFold mode 1:\\n{tensoralg.fold(kolda_m1, kolda_tensor.shape, 1)}')"
   ]
  },
  {
   "cell_type": "markdown",
   "metadata": {},
   "source": [
    "For $2$-mode matrix:"
   ]
  },
  {
   "cell_type": "code",
   "execution_count": 10,
   "metadata": {},
   "outputs": [
    {
     "name": "stdout",
     "output_type": "stream",
     "text": [
      "[[ 1. +1.j  2. +2.j  3. +3.j 13.+13.j 14.+14.j 15.+15.j]\n",
      " [ 4. +4.j  5. +5.j  6. +6.j 16.+16.j 17.+17.j 18.+18.j]\n",
      " [ 7. +7.j  8. +8.j  9. +9.j 19.+19.j 20.+20.j 21.+21.j]\n",
      " [10.+10.j 11.+11.j 12.+12.j 22.+22.j 23.+23.j 24.+24.j]]\n",
      "\n",
      "Fold mode 2:\n",
      "[[[ 1. +1.j  4. +4.j  7. +7.j 10.+10.j]\n",
      "  [ 2. +2.j  5. +5.j  8. +8.j 11.+11.j]\n",
      "  [ 3. +3.j  6. +6.j  9. +9.j 12.+12.j]]\n",
      "\n",
      " [[13.+13.j 16.+16.j 19.+19.j 22.+22.j]\n",
      "  [14.+14.j 17.+17.j 20.+20.j 23.+23.j]\n",
      "  [15.+15.j 18.+18.j 21.+21.j 24.+24.j]]]\n"
     ]
    }
   ],
   "source": [
    "kolda_m2 = np.complex_(kolda_m2) + 1j*kolda_m2; print(kolda_m2)\n",
    "print(f'\\nFold mode 2:\\n{tensoralg.fold(kolda_m2, kolda_tensor.shape, 2)}')"
   ]
  },
  {
   "cell_type": "markdown",
   "metadata": {},
   "source": [
    "For $3$-mode matrix:"
   ]
  },
  {
   "cell_type": "code",
   "execution_count": 11,
   "metadata": {},
   "outputs": [
    {
     "name": "stdout",
     "output_type": "stream",
     "text": [
      "[[ 1. +1.j  2. +2.j  3. +3.j  4. +4.j  5. +5.j  6. +6.j  7. +7.j  8. +8.j  9. +9.j 10.+10.j 11.+11.j 12.+12.j]\n",
      " [13.+13.j 14.+14.j 15.+15.j 16.+16.j 17.+17.j 18.+18.j 19.+19.j 20.+20.j 21.+21.j 22.+22.j 23.+23.j 24.+24.j]]\n",
      "\n",
      "Fold mode 3:\n",
      "[[[ 1. +1.j  4. +4.j  7. +7.j 10.+10.j]\n",
      "  [ 2. +2.j  5. +5.j  8. +8.j 11.+11.j]\n",
      "  [ 3. +3.j  6. +6.j  9. +9.j 12.+12.j]]\n",
      "\n",
      " [[13.+13.j 16.+16.j 19.+19.j 22.+22.j]\n",
      "  [14.+14.j 17.+17.j 20.+20.j 23.+23.j]\n",
      "  [15.+15.j 18.+18.j 21.+21.j 24.+24.j]]]\n"
     ]
    }
   ],
   "source": [
    "kolda_m3 = np.complex_(kolda_m3) + 1j*kolda_m3; print(kolda_m3)\n",
    "print(f'\\nFold mode 3:\\n{tensoralg.fold(kolda_m3, kolda_tensor.shape, 3)}')"
   ]
  },
  {
   "cell_type": "markdown",
   "metadata": {},
   "source": [
    "- Validating the implemented routine using the provided data in the file `unfolding_folding.mat`\n",
    "\n",
    "For the $1$-mode matrix:"
   ]
  },
  {
   "cell_type": "code",
   "execution_count": 12,
   "metadata": {},
   "outputs": [
    {
     "name": "stdout",
     "output_type": "stream",
     "text": [
      "X1:\n",
      "[[ -1.816   3.84    2.262   0.987  -0.734   1.719   0.026  -0.342   1.434  -3.182  -0.994  -0.119  -1.182   2.151   3.315   2.179  -2.226   4.525   3.731   2.009]\n",
      " [ -1.178   1.82    5.018   3.602  -0.126   0.521  -1.19   -1.054   0.618  -1.246  -1.094  -0.606  -1.493   1.63    9.942   7.552  -1.822   2.462   9.624   7.123]\n",
      " [  3.202  -6.178  -7.122  -4.354   0.985  -2.506   1.02    1.338  -2.253   4.888   2.149   0.677   2.725  -3.999 -12.722  -9.26    4.258  -7.56  -12.936  -8.68 ]]\n",
      "\n",
      "Folding :\n",
      "\n",
      "[[[ -1.816   3.84    2.262   0.987]\n",
      "  [ -1.178   1.82    5.018   3.602]\n",
      "  [  3.202  -6.178  -7.122  -4.354]]\n",
      "\n",
      " [[ -0.734   1.719   0.026  -0.342]\n",
      "  [ -0.126   0.521  -1.19   -1.054]\n",
      "  [  0.985  -2.506   1.02    1.338]]\n",
      "\n",
      " [[  1.434  -3.182  -0.994  -0.119]\n",
      "  [  0.618  -1.246  -1.094  -0.606]\n",
      "  [ -2.253   4.888   2.149   0.677]]\n",
      "\n",
      " [[ -1.182   2.151   3.315   2.179]\n",
      "  [ -1.493   1.63    9.942   7.552]\n",
      "  [  2.725  -3.999 -12.722  -9.26 ]]\n",
      "\n",
      " [[ -2.226   4.525   3.731   2.009]\n",
      "  [ -1.822   2.462   9.624   7.123]\n",
      "  [  4.258  -7.56  -12.936  -8.68 ]]]\n"
     ]
    }
   ],
   "source": [
    "print(f'''X1:\\n{X1}\\n\n",
    "Folding :\\n\n",
    "{tensoralg.fold(X1, tenX.shape, 1)}''')"
   ]
  },
  {
   "cell_type": "markdown",
   "metadata": {},
   "source": [
    "For the $2$-mode matrix:"
   ]
  },
  {
   "cell_type": "code",
   "execution_count": 13,
   "metadata": {},
   "outputs": [
    {
     "name": "stdout",
     "output_type": "stream",
     "text": [
      "X2:\n",
      "[[ -1.816  -1.178   3.202  -0.734  -0.126   0.985   1.434   0.618  -2.253  -1.182  -1.493   2.725  -2.226  -1.822   4.258]\n",
      " [  3.84    1.82   -6.178   1.719   0.521  -2.506  -3.182  -1.246   4.888   2.151   1.63   -3.999   4.525   2.462  -7.56 ]\n",
      " [  2.262   5.018  -7.122   0.026  -1.19    1.02   -0.994  -1.094   2.149   3.315   9.942 -12.722   3.731   9.624 -12.936]\n",
      " [  0.987   3.602  -4.354  -0.342  -1.054   1.338  -0.119  -0.606   0.677   2.179   7.552  -9.26    2.009   7.123  -8.68 ]]\n",
      "\n",
      "Folding :\n",
      "\n",
      "[[[ -1.816   3.84    2.262   0.987]\n",
      "  [ -1.178   1.82    5.018   3.602]\n",
      "  [  3.202  -6.178  -7.122  -4.354]]\n",
      "\n",
      " [[ -0.734   1.719   0.026  -0.342]\n",
      "  [ -0.126   0.521  -1.19   -1.054]\n",
      "  [  0.985  -2.506   1.02    1.338]]\n",
      "\n",
      " [[  1.434  -3.182  -0.994  -0.119]\n",
      "  [  0.618  -1.246  -1.094  -0.606]\n",
      "  [ -2.253   4.888   2.149   0.677]]\n",
      "\n",
      " [[ -1.182   2.151   3.315   2.179]\n",
      "  [ -1.493   1.63    9.942   7.552]\n",
      "  [  2.725  -3.999 -12.722  -9.26 ]]\n",
      "\n",
      " [[ -2.226   4.525   3.731   2.009]\n",
      "  [ -1.822   2.462   9.624   7.123]\n",
      "  [  4.258  -7.56  -12.936  -8.68 ]]]\n"
     ]
    }
   ],
   "source": [
    "print(f'''X2:\\n{X2}\\n\n",
    "Folding :\\n\n",
    "{tensoralg.fold(X2, tenX.shape, 2)}''')"
   ]
  },
  {
   "cell_type": "markdown",
   "metadata": {},
   "source": [
    "For the $3$-mode matrix:"
   ]
  },
  {
   "cell_type": "code",
   "execution_count": 14,
   "metadata": {},
   "outputs": [
    {
     "name": "stdout",
     "output_type": "stream",
     "text": [
      "X3:\n",
      "[[ -1.816  -1.178   3.202   3.84    1.82   -6.178   2.262   5.018  -7.122   0.987   3.602  -4.354]\n",
      " [ -0.734  -0.126   0.985   1.719   0.521  -2.506   0.026  -1.19    1.02   -0.342  -1.054   1.338]\n",
      " [  1.434   0.618  -2.253  -3.182  -1.246   4.888  -0.994  -1.094   2.149  -0.119  -0.606   0.677]\n",
      " [ -1.182  -1.493   2.725   2.151   1.63   -3.999   3.315   9.942 -12.722   2.179   7.552  -9.26 ]\n",
      " [ -2.226  -1.822   4.258   4.525   2.462  -7.56    3.731   9.624 -12.936   2.009   7.123  -8.68 ]]\n",
      "\n",
      "Folding :\n",
      "\n",
      "[[[ -1.816   3.84    2.262   0.987]\n",
      "  [ -1.178   1.82    5.018   3.602]\n",
      "  [  3.202  -6.178  -7.122  -4.354]]\n",
      "\n",
      " [[ -0.734   1.719   0.026  -0.342]\n",
      "  [ -0.126   0.521  -1.19   -1.054]\n",
      "  [  0.985  -2.506   1.02    1.338]]\n",
      "\n",
      " [[  1.434  -3.182  -0.994  -0.119]\n",
      "  [  0.618  -1.246  -1.094  -0.606]\n",
      "  [ -2.253   4.888   2.149   0.677]]\n",
      "\n",
      " [[ -1.182   2.151   3.315   2.179]\n",
      "  [ -1.493   1.63    9.942   7.552]\n",
      "  [  2.725  -3.999 -12.722  -9.26 ]]\n",
      "\n",
      " [[ -2.226   4.525   3.731   2.009]\n",
      "  [ -1.822   2.462   9.624   7.123]\n",
      "  [  4.258  -7.56  -12.936  -8.68 ]]]\n"
     ]
    }
   ],
   "source": [
    "print(f'''X3:\\n{X3}\\n\n",
    "Folding :\\n\n",
    "{tensoralg.fold(X3, tenX.shape, 3)}''')"
   ]
  },
  {
   "cell_type": "markdown",
   "metadata": {},
   "source": [
    "### Problem 3 - Tensor x Matrix Product\n",
    "\n",
    "For given matrices $A \\in \\mathbb{C}^{P \\times I}$, $B \\in \\mathbb{C}^{Q \\times J}$ and $C \\in \\mathbb{C}^{R \\times K}$ and tensor $\\mathbf{\\mathcal{X}} \\in \\mathbb{C}^{I \\times J \\times K}$ , calculate the tensor $\\mathbf{\\mathcal{Y}} \\in \\mathbb{C}^{P \\times Q \\times R}$ via the following multilinear transformation:\n",
    "\n",
    "\\begin{equation}\n",
    "    \\mathbf{\\mathcal{Y}} = \\mathbf{\\mathcal{X}} \\times_{1} \\mathbf{A} \\times_{2} \\mathbf{B} \\times_{3} \\mathbf{C}\n",
    "\\end{equation}\n",
    "\n",
    "### Solution\n",
    "\n",
    "To show the functioning of the implemented function, we have the example below for the $1$-mode pdoduct between the matrix U and the Kolda's tensor:"
   ]
  },
  {
   "cell_type": "code",
   "execution_count": 15,
   "metadata": {},
   "outputs": [
    {
     "name": "stdout",
     "output_type": "stream",
     "text": [
      "Matrix U:\n",
      "\n",
      "[[1.+1.j 3.+3.j 5.+5.j]\n",
      " [2.+2.j 4.+4.j 6.+6.j]]\n"
     ]
    }
   ],
   "source": [
    "U = np.array([[1, 3, 5],[2, 4, 6]]); U = np.complex_(U) + 1j*U; print(f'Matrix U:\\n\\n{U}')"
   ]
  },
  {
   "cell_type": "code",
   "execution_count": 16,
   "metadata": {},
   "outputs": [
    {
     "name": "stdout",
     "output_type": "stream",
     "text": [
      "1-mode product:\n",
      "\n",
      "[[[0. +44.j 0. +98.j 0.+152.j 0.+206.j]\n",
      "  [0. +56.j 0.+128.j 0.+200.j 0.+272.j]]\n",
      "\n",
      " [[0.+260.j 0.+314.j 0.+368.j 0.+422.j]\n",
      "  [0.+344.j 0.+416.j 0.+488.j 0.+560.j]]]\n",
      "\n"
     ]
    }
   ],
   "source": [
    "print(f'1-mode product:\\n\\n{tensoralg.m_mode_prod(kolda_tensor, [U])}\\n')"
   ]
  },
  {
   "cell_type": "markdown",
   "metadata": {},
   "source": [
    "- Validating the implemented routine using the provided data in the file `multilinear_product.mat`"
   ]
  },
  {
   "cell_type": "code",
   "execution_count": 17,
   "metadata": {},
   "outputs": [
    {
     "name": "stdout",
     "output_type": "stream",
     "text": [
      "Multilinear Product:\n",
      "\n",
      "[[[-2.130e+00 -1.259e+00  3.167e-01 -9.018e+00  2.583e-01]\n",
      "  [ 1.341e+00  1.559e+00  8.322e-01  6.595e+00 -8.034e-03]\n",
      "  [ 2.914e+00  1.560e-01  1.960e+00  9.945e+00  7.400e-01]\n",
      "  [ 5.543e-01  3.017e+00 -1.378e+00  6.128e+00 -1.064e+00]]\n",
      "\n",
      " [[ 6.851e+00 -1.151e+01 -1.193e+01 -7.727e+00 -1.960e+00]\n",
      "  [ 1.729e+00 -1.990e+00  7.860e+00  6.724e+00  3.288e+00]\n",
      "  [-1.699e+00  3.308e+00  1.214e+01  8.481e+00  3.731e+00]\n",
      "  [-2.438e+00  4.773e+00  8.103e+00  6.665e+00  1.988e+00]]\n",
      "\n",
      " [[ 3.761e+00 -4.289e+00 -5.123e+00  5.529e-01 -9.285e-01]\n",
      "  [ 1.601e-01 -1.487e+00  2.939e+00  4.445e-02  1.379e+00]\n",
      "  [-1.934e+00  1.319e+00  4.258e+00 -6.264e-01  1.251e+00]\n",
      "  [-1.253e+00  7.308e-01  3.969e+00  2.161e-01  1.278e+00]]]\n"
     ]
    }
   ],
   "source": [
    "print(f'''Multilinear Product:\\n\\n{tensoralg.m_mode_prod(mtenX, [A, B, C])}''')"
   ]
  },
  {
   "cell_type": "code",
   "execution_count": 18,
   "metadata": {},
   "outputs": [
    {
     "name": "stdout",
     "output_type": "stream",
     "text": [
      "Real result:\n",
      "\n",
      "[[[-2.130e+00 -1.259e+00  3.166e-01 -9.018e+00  2.583e-01]\n",
      "  [ 1.341e+00  1.559e+00  8.322e-01  6.595e+00 -8.040e-03]\n",
      "  [ 2.914e+00  1.560e-01  1.960e+00  9.945e+00  7.400e-01]\n",
      "  [ 5.543e-01  3.017e+00 -1.378e+00  6.128e+00 -1.064e+00]]\n",
      "\n",
      " [[ 6.851e+00 -1.151e+01 -1.193e+01 -7.727e+00 -1.960e+00]\n",
      "  [ 1.729e+00 -1.990e+00  7.860e+00  6.724e+00  3.288e+00]\n",
      "  [-1.699e+00  3.308e+00  1.214e+01  8.481e+00  3.731e+00]\n",
      "  [-2.438e+00  4.773e+00  8.103e+00  6.665e+00  1.988e+00]]\n",
      "\n",
      " [[ 3.761e+00 -4.289e+00 -5.123e+00  5.529e-01 -9.285e-01]\n",
      "  [ 1.601e-01 -1.487e+00  2.939e+00  4.445e-02  1.379e+00]\n",
      "  [-1.934e+00  1.319e+00  4.258e+00 -6.264e-01  1.251e+00]\n",
      "  [-1.253e+00  7.308e-01  3.969e+00  2.161e-01  1.278e+00]]]\n"
     ]
    }
   ],
   "source": [
    "print(f'''Real result:\\n\\n{tenY}''')"
   ]
  }
 ],
 "metadata": {
  "file_extension": ".py",
  "kernelspec": {
   "display_name": "Python 3",
   "language": "python",
   "name": "python3"
  },
  "language_info": {
   "codemirror_mode": {
    "name": "ipython",
    "version": 3
   },
   "file_extension": ".py",
   "mimetype": "text/x-python",
   "name": "python",
   "nbconvert_exporter": "python",
   "pygments_lexer": "ipython3",
   "version": "3.7.4"
  },
  "mimetype": "text/x-python",
  "name": "python",
  "npconvert_exporter": "python",
  "pygments_lexer": "ipython3",
  "version": 3
 },
 "nbformat": 4,
 "nbformat_minor": 4
}
